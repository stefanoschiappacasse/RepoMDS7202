{
 "cells": [
  {
   "cell_type": "markdown",
   "source": "# Proyecto: El Desafío de Don Rene\n\n**MDS7202: Laboratorio de Programación Científica para Ciencia de Datos**\n\n### Cuerpo Docente:\n\n- Profesor: Pablo Badilla\n- Auxiliar: Ignacio Meza D.\n- Ayudante: Constanza Peña\n\n*Por favor, lean detalladamente las instrucciones de la tarea antes de empezar a escribir.*\n",
   "metadata": {
    "cell_id": "00000-f53914fc-294a-4bd9-ab99-c7f9f7e072d9",
    "deepnote_cell_type": "markdown"
   }
  },
  {
   "cell_type": "markdown",
   "source": "----\n\n## Reglas\n\n- Fecha de entrega: 21/12/2021\n- **Grupos de 2 personas.**\n- Cualquier duda fuera del horario de clases al foro. Mensajes al equipo docente serán respondidos por este medio.\n- Estrictamente prohibida la copia. \n- Pueden usar cualquier material del curso que estimen conveniente.",
   "metadata": {
    "cell_id": "00001-7e639802-19f7-4bbe-9a97-e312f613a693",
    "deepnote_cell_type": "markdown"
   }
  },
  {
   "cell_type": "markdown",
   "source": "---\n\n## El desafio de Don Rene\n\n\nDon Rene, afamado *influencer* y próximo emprendedor de IA, decide que será una buena idea darle un giro a su vida y dedicarse al rubro del asesoramiento de inversionistas en la industria de los videojuegos. \n\nEl futuro empresario plantea que el éxito relativo de una inversión en una desarrolladora de juegos debe ser analizado desde un punto de vista basado en evidencia y no en la intuición. \nPor dicha razón, plantea que para el sería ideal que existiera una máquina que, dada las características de un nuevo videojuego (su género, el estudio que lo desarrolla, su historia, etc...), indique si este será potencialmente una inversión rentable o no.\n\nRene está convencido que el éxito de una inversión en videojuegos estar relacionada por dos características muy relevantes de estos una vez que salen al mercado:\n\n**1. La potencial evaluación (Positivo, Negativo, etc...) que le den los usuarios que jugarán el juego.**\n\n**2. Las potenciales ventas del juego.**\n\nSi bien la idea puede sonar excelente, Don Rene carece en su totalidad de una formación en Ciencia de los Datos, por lo que decide ir en ayuda de expertos para implementar su idea.\n\nSin embargo, como fiel discipulo del libre mercado, decide no contratar a un equipo en particular, si no que tener la libertad de elegir entre muchos equipos que compiten entre si para saber cuál contratar. Para esto recurre a una triquiñuela recurrentemente utilizada en data science: Establecer una competencia abierta y contratar a los que cumplan mejor sus requisitos.\n\n\nPara esto, Don Rene abre una competencia en la plataforma [Codalab](https://codalab.lisn.upsaclay.fr/competitions/359?secret_key=f8ff426d-24a7-470f-acfc-78a777b1b19c#results) (plataforma similar a Kaggle) la cuál, espera que se replete de buenas propuestas. Los equipos que mejor evaluaciones obtengan (los primeros 5 de cada tabla) serán contratados y retribuidos con un cupón canjeable con la friolera cantidad de 1 punto bonus para el proyecto en el curso MDS7202.\n\n",
   "metadata": {
    "cell_id": "00002-bf13ea5a-d8bf-4cee-879e-ba1c7035e657",
    "deepnote_cell_type": "markdown"
   }
  },
  {
   "cell_type": "markdown",
   "source": "\n\n### Definición Formal del Problema\n\nEl objetivo de este proyecto es relativamente sencillo, pero en extremo ambicioso: Tendrán que aplicar todo lo aprendido hasta este momento con el fin de solucionar 2 problemas distintos: \n\n1. **Clasificación de potenciales evaluaciones con las que los jugadores evaluarán los juegos**. Las posibles clases que deben asignar a cada juego son `('Negative', 'Mixed', 'Mostly Positive', 'Positive', 'Very Positive')`. La métrica de evaluación utilizada para medir la clasificación es `f1_weighted`.\n2. **Regresión de las potenciales ventas que tendrán los juegos**. La métrica de evaluación utilizada para medir la clasificación es `r_2`.\n\nPara esto, ustedes contarán un dataset que cuenta con diversa información de los juegos de la plataforma Steam (tales como fecha de lanzamiento, logros disponibles, plataforma, desarrollador, distribuidor, tags, etc...) más las etiquetas y valores a predecir.\n\n\nEl objetivo final es que participen en la competencia generada en [Codalab](https://codalab.lisn.upsaclay.fr/competitions/359?secret_key=f8ff426d-24a7-470f-acfc-78a777b1b19c#results). Una competencia de Data Science funciona generalmente de la siguiente manera: \n\n1. Se plantea un problema que los equipos deben resolver.\n2. Se provee de datos de entrenamiento a los equipos para que generen modelos que resuelvan el problema.\n3. Se provee de datos de prueba que los equipos deberán predecir con los modelos creados. Una vez predichos, los equipos deben subir los archivos a la plataforma, la cuál los evaluará y publicará en un tablero disponible para todos los participantes.\n\nPor este motivo, se les provee de dos datasets: `train.pickle` y `test.pickle`.\n\n- Por una parte, `train.pickle` está preparado que lo utilizen como conjunto de entrenamiento del modelo; por lo que incluye las etiquetas y valores por predecir. \n\n- Por otra parte, la evaluación de la competencia será hecha usando `test.pickle`. Es decir, este dataset solo contiene características de los juegos y ustedes deberán predecir tanto las potenciales evaluaciones como las posibles ventas de estos y subir sus resultados.\n\n- Además, tendrán sample subissions, es decir, un ejemplo de como subir las evaluaciones.\n\nObviamente para subir archivos a la competencia deberán registrarse en Codalab. **Puden participar máximo 5 veces en la competencia** (la idea es evitar que se sobreajusten a los datos que deben predecir)\n\n**IMPORTANTE**: Para la clasificación no usen la cantidad de ventas (target de la regresión) como atributo. Por otro lado, para la regresión no utilicen las evaluaciones como atributo para predecir. Infringir estas reglas implicará en no contar el puntaje de la competencia como tampoco poder participar de los bonus por los tops.\n",
   "metadata": {
    "tags": [],
    "cell_id": "00003-a5045731-0c9e-47a1-ae7b-243d8603e70b",
    "deepnote_cell_type": "markdown"
   }
  },
  {
   "cell_type": "markdown",
   "source": "---\n\n## Secciones Requeridas en el Informe\n\nLa siguiente lista detalla las secciones que debe contener su notebook para resolver el proyecto. Es importante que al momento de desarrollar cada una de las secciones, estas sean escritas en un formato tipo **informe**, donde describan detalladamente cada uno de los puntos realizados.\n\n### 1. Introducción [0.5 Puntos]\n\n*Esta sección es literalmente una muy breve introducción con todo lo necesario para entender que hicieron en su proyecto.*\n\n- Describir brevemente ambos problemas planteados (clasificación y regresión).\n- Describir brevemente los datos de entrada que les provee el problema.\n- Describir qué métricas se ocupan para la evaluación del problema y por qué se utilizan.\n- [Escribir al final] Describir brevemente el modelo que usaron para resolver el problema (incluyendo las transformaciones intermedias de datos).\n- [Escribir al final] Indicar si lograron resolver el problema a través de su modelo. Indiquen además si creen que los resultados de su mejor modelo son aceptables y como les fue con respecto al resto de los equipos.\n\n### 2. Análisis Exploratorio de Datos [1.5 Punto]\n\n\n*La idea de esta sección es que exploren el dataset y obtengan una idea de como son los datos de su problema para que en la siguientes secciones, puedan modelarlos.*\n\n- Analizar cantidad de datos nulos, tipos de datos, duplicados, distribuciones de las variables a través de histogramas.\n- Generar visualizaciones de las interacciones (como por ejemplo, una scatter matrix) en las distintas variables.\n- Ver las correlaciones entre las distintas variables y los valores faltantes de cada una de estas. \n- Proyectar los datos con PCA, T-SNE o UMAP para ver si existen relaciones entre las distintas variables de forma bi o tri dimensional.\n- Reportar los patrones y relaciones interesantes.\n- No restringirse a lo mencionado anteriormente.\n\n### 3. Preparación de Datos [1 Punto]\n\n*Esta sección consiste en generar los distintos pasos para preparar sus datos con el fin de luego poder crear su modelo.*\n\n- Descartar datos nulos y outliers.\n- Preprocesar datos categóricos y ordinales.\n- Escalar/estandarizar datos numéricos.\n- Codificar texto.\n- Setear las transformaciones en un `ColumnTransformer`.\n- Probar las transformaciones.\n\n### 4. Creación de los *Baseline* [0.5 Punto]\n\n*En esta sección crearán el modelo más básico posible que resuelva el problema. La idea de este modelo usarlo como comparación para que en el siguiente paso lo puedan mejorar.*\n\n- Generar un pipeline para la clasificación un clasificador relativamente sencillo (a su elección).\n- Generar un pipeline para la regresión con  un regresor relativamente sencillo (a su elección).\n- Evaluar ambos modelos según las métricas de evaluación y reportar.\n\n### 5. Optimización de los Modelos [1 Puntos]\n\n*Aquí deberán mejorar los modelos al variar los hiperparámetros que están ocupando. No se les pide 100% de nada, si se va a demorar la edad del universo en explorar su grilla, entonces achíquenla a algo que sepan que va a terminar.*\n\n- Usar **`HalvingGridSearchCV`** para tunear hipermarámetros.\n- Agregar técnicas de reduccion de dimensionalidad como `PCA` o de seleccion de atributos, como también usar mejores clasificadores y explorar sus hiperparámetros. \n- Probar distintos parámetros para las transformaciones de datos, seleccion de atributos, clasificadores, etc...\n- Probar modelos basados en gradient boosting/bagging.  \n- Probar activando/descativando los procesadores de texto, de categorías, etc...\n- Recuerden setear la búsqueda para optimizar la métrica que se evalua en la competencia.\n\n- **Generen grillas decentes que terminen ojalá antes que cierre el curso.**\n    \n### 6. Concluir [0.5 Punto] \n\n\n*Aquí deben escribir una breve conclusión del trabajo que hicieron en donde incluyan (pero no se limiten) a responder las siguientes preguntas:*\n\n- ¿Pudieron resolver exitosamente el problema?\n- ¿Son aceptables los resultados obtenidos?\n- ¿Como fue el rendimiento del baseline?\n- ¿Pudieron optimizar el baseline?\n- ¿Que tanto mejoro el baseline con respecto a sus optimizaciones?\n- ¿Estuvieron conformes con sus resultados?\n- ¿Creen que hayan mejores formas de modelar el problema?\n- ¿Es didáctico usar una competencia?\n- ¿En general, qué aprendieron del proyecto?¿Qué no aprendieron y les gustaría haber aprendido?\n- Etc...\n\n\n### 7. Punto por superar el baseline de la competencia. [1 Punto]\n\n*Este punto es solo informativo, no deben escribir nada aquí*",
   "metadata": {
    "cell_id": "00003-3cb3d532-0223-4021-869f-4b03ea06b875",
    "deepnote_cell_type": "markdown"
   }
  },
  {
   "cell_type": "markdown",
   "source": "---\n\n## Esquema de la Tarea\n\n\nPueden usar el siguiente esquema para organizar la tarea (y borrar todo lo anterior).\nObviamente **no deben limitarse a lo que está escrito en esta**: puede incrementar en caso de más técnicas y obviar algunas partes en caso que alguna y otro punto no aplique a su problema.\n\nPueden borrar las instrucciones anteriores y quedarse solo con lo que viene a continuación.\n\n\n---\n---\n<br>\n\n<br>\n\n<br>",
   "metadata": {
    "cell_id": "00004-2c33dfb6-7731-4252-a108-cec08f45ddf9",
    "deepnote_cell_type": "markdown"
   }
  },
  {
   "cell_type": "markdown",
   "source": "\n\n# Proyecto\n\n### Equipo:\n\n- \\<Primer integrante\\>\n- \\<Segundo integrante\\>\n\n- \\<Nombre de usuarios en Codalab\\>\n\n- \\<Nombre del Equipo en Codalab\\>\n\n### Link de repositorio de GitHub: `\\<http://....\\>`\n\n",
   "metadata": {
    "cell_id": "00005-7921fb53-59e9-49a1-a5a5-dec92da88299",
    "deepnote_cell_type": "markdown"
   }
  },
  {
   "cell_type": "markdown",
   "source": "\n## 1. Introducción\n\nEl objetivo de este proyecto consiste en ...\n\nLos datos que proveen es un dataset con X ejemplos que describen una observación de ... \nSon N atributos y la variables objetivos son de tipo ... y ...\n\nLa primera tarea se evalua en base a la métrica ... ya que esta permite medir ...\n\nNuestra propuesta para resolver el problema consistieron en modelo basado en...\n\nNuestro modelo cumplió/no cumplió las expectativas...",
   "metadata": {
    "cell_id": "00006-200f2a79-7517-4226-8a5b-438553fa1b13",
    "deepnote_cell_type": "markdown"
   }
  },
  {
   "cell_type": "markdown",
   "source": "---\n## 2. Análisis Exploratorio de Datos",
   "metadata": {
    "cell_id": "00007-d1ce17da-f6e0-4c12-bbe8-a40a46e7371b",
    "deepnote_cell_type": "markdown"
   }
  },
  {
   "cell_type": "code",
   "metadata": {
    "cell_id": "00008-aae529ec-fdde-46f4-8c4c-f57d7f0f0a11",
    "deepnote_cell_type": "code"
   },
   "source": "# --> Código aquí  <--\n# Nota: Si usan pandas-profiling, usar el modo widget o html para adjuntar sus resultados al notebook de entrega*\n\n# df_train = pd.read_csv(...)\n\n# px.histograms(...)\n\n# cov = df_train.cov()\n# px.heatmap(cov, ...)\n\n# px.scatter(proyecciones)\n# etc...",
   "execution_count": 1,
   "outputs": []
  },
  {
   "cell_type": "markdown",
   "source": "\n\nAl efectuar el análisis exploratorio de datos pudimos notar lo siguiente:\n\nEl atributo A tenía X datos nulos y Y duplicados... que podrían potencialmente dificultar el análisis.\n\nLa variable A se distribuye de forma normal. En cambio la B en forma exponencial. La variable C es categórica.\n\nLos atributos A y B interactúan de P forma, mientras que los C y D de Q forma...\n\nLos atributos A y C se correlacionan con las variables de salida Y de forma creciente... B no tiene correlación con la salida.\n\nAdemás, encontramos que al proyectar en 2D ...\n\n...",
   "metadata": {
    "cell_id": "00009-90bc5fe7-9017-4e2b-9a52-e19523d42a7a",
    "deepnote_cell_type": "markdown"
   }
  },
  {
   "cell_type": "markdown",
   "source": "---\n\n## 3. Preparación de Datos\n\nPara preparar nuestros datos, primero eliminamos duplicados y outliers...:",
   "metadata": {
    "cell_id": "00010-41569a5a-d2db-40c6-a236-99a8d5ef58b7",
    "deepnote_cell_type": "markdown"
   }
  },
  {
   "cell_type": "code",
   "metadata": {
    "cell_id": "00011-8322165d-3203-4545-a34a-d208a2feae37",
    "deepnote_cell_type": "code"
   },
   "source": "## Código",
   "execution_count": 2,
   "outputs": []
  },
  {
   "cell_type": "markdown",
   "source": "Después, imputamos ciertos datos",
   "metadata": {
    "cell_id": "00012-ff9a5238-44ae-447c-8ece-5bfc25ff23e4",
    "deepnote_cell_type": "markdown"
   }
  },
  {
   "cell_type": "code",
   "metadata": {
    "cell_id": "00013-f4c754f3-01d3-459d-8bb2-7139d5f1e37b",
    "deepnote_cell_type": "code"
   },
   "source": "## Código",
   "execution_count": 3,
   "outputs": []
  },
  {
   "cell_type": "markdown",
   "source": "Luego, preparamos un `ColumnTransformer` que prepara los datos:",
   "metadata": {
    "cell_id": "00014-ec736129-9a8d-4e61-9999-01a11a0a34dc",
    "deepnote_cell_type": "markdown"
   }
  },
  {
   "cell_type": "code",
   "metadata": {
    "cell_id": "00015-b5333c35-cc78-440b-b0a3-e048cea0d85b",
    "deepnote_cell_type": "code"
   },
   "source": "## Código",
   "execution_count": 4,
   "outputs": []
  },
  {
   "cell_type": "markdown",
   "source": "...",
   "metadata": {
    "cell_id": "00016-f03e9ce1-8fea-4826-831b-ae7e4d2448a0",
    "deepnote_cell_type": "markdown"
   }
  },
  {
   "cell_type": "markdown",
   "source": "---\n\n## 4. Baseline",
   "metadata": {
    "cell_id": "00017-3b51644a-c255-4a6a-84d8-91f2e0044198",
    "deepnote_cell_type": "markdown"
   }
  },
  {
   "cell_type": "markdown",
   "source": "Adjuntamos las transformaciones anteriores en un solo `Pipeline` y agregamos al final un clasificador sencillo `ClasificadorX` \n",
   "metadata": {
    "cell_id": "00018-1eac8423-b445-4d49-aaed-64eeb70be3ca",
    "deepnote_cell_type": "markdown"
   }
  },
  {
   "cell_type": "code",
   "metadata": {
    "cell_id": "00019-7a0c4dc2-7539-4f64-8753-fdf5c60f8cb8",
    "deepnote_cell_type": "code"
   },
   "source": "## Código\n\n# pipeline_clf = [('etapa1', etapa1), ..., ('clf', Clasificador)]\n# pipeline_rg = [('etapa1', etapa1), ..., ('clf', Regresor)]\n\n# Evalauación\n# classfication_report(...)\n# ....",
   "execution_count": 5,
   "outputs": []
  },
  {
   "cell_type": "markdown",
   "source": "---\n\n## 5. Optimización del Modelo\n\nAhora, agregamos selección y/o reducción de atributos y probaremos una combinación de diferentes parámetros para mejorar nuestro modelo:\n\n\n*Nota*: Procuren hacer Gridsearch sobre espacios de búsqueda razonables. Es decir, no estén 3 días buscando la mejor configuración...",
   "metadata": {
    "cell_id": "00024-97baa921-e984-460f-8c3f-2653d51eaba6",
    "deepnote_cell_type": "markdown"
   }
  },
  {
   "cell_type": "code",
   "metadata": {
    "tags": [],
    "cell_id": "00025-d30e5333-0300-426c-b88e-b580e2223ec1",
    "deepnote_cell_type": "code"
   },
   "source": "# grilla_parametros = [{'seleccion': SelectPercentile , 'percentile': [25, 50, 75], 'clf': clf_1}, \n#                      {'clf': clf_2, 'steps'; n},\n#                      {...}, \n#                     ]\n# gs_2 = HalvingGridSearchCV(pipeline_clf, grilla_parametros, metric='la_metrica_que_optimiza_el_problema')",
   "execution_count": 8,
   "outputs": []
  },
  {
   "cell_type": "markdown",
   "source": "Pudimos ver que mejor modelo mejora/no mejora los resultados obtenidos en el baseline.",
   "metadata": {
    "cell_id": "00026-033fd9c9-519f-4f04-9a92-18c61e7ad868",
    "deepnote_cell_type": "markdown"
   }
  },
  {
   "cell_type": "code",
   "metadata": {
    "cell_id": "00027-cc2df460-abd0-4a1e-a3a3-60b37dee8cd0",
    "deepnote_cell_type": "code"
   },
   "source": "# gs_2.best_...",
   "execution_count": 9,
   "outputs": []
  },
  {
   "cell_type": "markdown",
   "source": "---\n\n## 6. Conclusiones",
   "metadata": {
    "cell_id": "00028-0df286d4-2014-4748-afd7-a47f04952db1",
    "deepnote_cell_type": "markdown"
   }
  },
  {
   "cell_type": "markdown",
   "source": "Algunas respuestas que podrían plantearse pueden ser:\n\n- ¿Pudieron resolver exitosamente el problema?\n- ¿Son aceptables los resultados obtenidos?\n\n\n- ¿Como fue el rendimiento del baseline?\n- ¿Pudieron optimizar el baseline?\n- ¿Que tanto mejoro el baseline con respecto a sus optimizaciones?\n\n\n- ¿Estuvieron conformes con sus resultados?\n- ¿Creen que hayan mejores formas de modelar el problema?\n- ¿Creen que fue buena idea usar una competencia de por medio?\n- ¿En general, qué aprendieron en el pryecto?¿Qué no aprendieron y les gustaría haber aprendido?\n- Etc...\n\n**OJO** si usted decide responder parte de estas preguntas, debe redactarlas en un formato de informe y no responderlas directamente.",
   "metadata": {
    "cell_id": "00029-3e9c2b3c-3f41-4117-a85c-075e76c9697a",
    "deepnote_cell_type": "markdown"
   }
  },
  {
   "cell_type": "markdown",
   "source": "---\n\n<br>\n\n### Anexo: Generación de Archivo Submit de la Competencia",
   "metadata": {
    "tags": [],
    "cell_id": "00032-eccf6cec-1f5a-487c-94c0-f231fe261f8b",
    "deepnote_cell_type": "markdown"
   }
  },
  {
   "cell_type": "markdown",
   "source": "Para subir los resultados obtenidos a la pagina de CodaLab utilice la función `generateFiles` entregada mas abajo. Esto es debido a que usted deberá generar archivos que respeten extrictamente el formato de CodaLab, de lo contario los resultados no se veran reflejados en la pagina de la competencia.\n\nPara los resultados obtenidos en su modelo de clasificación y regresión, estos serán guardados en un archivo zip que contenga los archivos `predicctions_clf.txt` para la clasificación y `predicctions_rgr.clf` para la regresión. Los resultados, como se comento antes, deberan ser obtenidos en base al dataset `test.pickle` y en cada una de las lineas deberan presentar las predicciones realizadas.\n\nEjemplos de archivos:\n\n- [ ] `predicctions_clf.txt`\n\n        Mostly Positive\n        Mostly Positive\n        Negative\n        Positive\n        Negative\n        Positive\n        ...\n\n- [ ] `predicctions_rgr.txt`\n\n        16103.58\n        16103.58\n        16041.89\n        9328.62\n        107976.03\n        194374.08\n        ...\n\n",
   "metadata": {
    "tags": [],
    "cell_id": "00032-86dd47d4-3847-4273-9ffd-596c9f8a130e",
    "deepnote_cell_type": "markdown"
   }
  },
  {
   "cell_type": "code",
   "source": "from zipfile import ZipFile\nimport os\n\ndef generateFiles(predict_data, clf_pipe, rgr_pipe):\n    \"\"\"Genera los archivos a subir en CodaLab\n\n    Input\n    predict_data: Dataframe con los datos de entrada a predecir\n    clf_pipe: pipeline del clf\n    rgr_pipe: pipeline del rgr\n\n    Ouput\n    archivo de txt\n    \"\"\"\n    y_pred_clf = clf_pipe.predict(predict_data)\n    y_pred_rgr = rgr_pipe.predict(predict_data)\n    \n    with open('./predictions_clf.txt', 'w') as f:\n        for item in y_pred_clf:\n            f.write(\"%s\\n\" % item)\n\n    with open('./predictions_rgr.txt', 'w') as f:\n        for item in y_pred_rgr:\n            f.write(\"%s\\n\" % item)\n\n    with ZipFile('predictions.zip', 'w') as zipObj2:\n       zipObj2.write('predictions_rgr.txt')\n       zipObj2.write('predictions_clf.txt')\n\n    os.remove(\"predictions_rgr.txt\")\n    os.remove(\"predictions_clf.txt\")",
   "metadata": {
    "tags": [],
    "cell_id": "00029-0111b615-ba72-461a-aa17-1fe6ceb0ebd0",
    "deepnote_cell_type": "code"
   },
   "outputs": [],
   "execution_count": null
  },
  {
   "cell_type": "markdown",
   "source": "<a style='text-decoration:none;line-height:16px;display:flex;color:#5B5B62;padding:10px;justify-content:end;' href='https://deepnote.com?utm_source=created-in-deepnote-cell&projectId=87110296-876e-426f-b91d-aaf681223468' target=\"_blank\">\n<img alt='Created in deepnote.com' style='display:inline;max-height:16px;margin:0px;margin-right:7.5px;' src='data:image/svg+xml;base64,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' > </img>\nCreated in <span style='font-weight:600;margin-left:4px;'>Deepnote</span></a>",
   "metadata": {
    "tags": [],
    "created_in_deepnote_cell": true,
    "deepnote_cell_type": "markdown"
   }
  }
 ],
 "nbformat": 4,
 "nbformat_minor": 5,
 "metadata": {
  "kernelspec": {
   "display_name": "Python 3",
   "language": "python",
   "name": "python3"
  },
  "language_info": {
   "codemirror_mode": {
    "name": "ipython",
    "version": 3
   },
   "file_extension": ".py",
   "mimetype": "text/x-python",
   "name": "python",
   "nbconvert_exporter": "python",
   "pygments_lexer": "ipython3",
   "version": "3.8.10"
  },
  "deepnote_notebook_id": "cd4ffb8b-90a0-4648-9d80-2b8c0eef5325",
  "deepnote": {},
  "deepnote_execution_queue": []
 }
}