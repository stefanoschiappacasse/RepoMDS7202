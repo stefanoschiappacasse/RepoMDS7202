{
 "cells": [
  {
   "cell_type": "markdown",
   "source": "<h1><center>Laboratorio 5: El Pandas no Muerde (act IV) 🐼</center></h1>\n\n<center><strong>MDS7202: Laboratorio de Programación Científica para Ciencia de Datos</strong></center>",
   "metadata": {
    "id": "XUZ1dFPHzAHl",
    "cell_id": "00000-d922277a-c096-45e6-919d-d08ca8ca4c9c",
    "deepnote_cell_type": "markdown"
   }
  },
  {
   "cell_type": "markdown",
   "source": "### Cuerpo Docente:\n\n- Profesor: Pablo Badilla\n- Auxiliar: Ignacio Meza D.\n- Ayudante: Constanza Peña",
   "metadata": {
    "id": "UD8X1uhGzAHq",
    "cell_id": "00001-41058c5a-e4f2-45ba-8925-5dee28b63c02",
    "deepnote_cell_type": "markdown"
   }
  },
  {
   "cell_type": "markdown",
   "source": "### Equipo: SUPER IMPORTANTE - notebooks sin nombre no serán revisados\n\n- Nombre de alumno 1:\n- Nombre de alumno 2:\n",
   "metadata": {
    "id": "tXflExjqzAHr",
    "cell_id": "00002-e1842bc9-c821-4133-b500-4fe9b07f9071",
    "deepnote_cell_type": "markdown"
   }
  },
  {
   "cell_type": "markdown",
   "source": "### **Link de repositorio de GitHub:** `http://....`",
   "metadata": {
    "id": "AD-V0bbZzAHr",
    "cell_id": "00003-1ff7590e-80bb-4f14-b210-a464229ab3d9",
    "deepnote_cell_type": "markdown"
   }
  },
  {
   "cell_type": "markdown",
   "source": "### Indice \n\n1. [Temas a tratar](#Temas-a-tratar:)\n3. [Descripcción del laboratorio](#Descripción-del-laboratorio.)\n4. [Desarrollo](#Desarrollo)",
   "metadata": {
    "id": "EcnsiQMkzAHr",
    "cell_id": "00004-d370223c-3009-46a6-8483-75ff7922c9f5",
    "deepnote_cell_type": "markdown"
   }
  },
  {
   "cell_type": "markdown",
   "source": "# Temas a tratar\n\n- Programación orientada a objetos.\n- Programación funcional.\n- Librería Numpy para manejo de datos en arreglos/tensores.\n\n## Reglas:\n\n- Fecha de entrega: 22/10/2021\n- **Grupos de 2 personas**\n- **Ausentes** deberán realizar la actividad solos. \n- Cualquier duda fuera del horario de clases al foro. Mensajes al equipo docente serán respondidos por este medio.\n- Prohibidas las copias. \n- Pueden usar cualquer matrial del curso que estimen conveniente.\n\n### Objetivos principales del laboratorio\n\n- Aplicar los paradigmas y buenas prácticas de programación vistas hasta este momento.\n- Comprender y aprovechar las ventajas que nos ofrece la liberia `numpy` con respecto a trabajar en Python 'puro'.\n- Visualizar aplicaciones de filtros de imágenes sin el uso de librerías.\n- Verificar que el uso indiscriminado de `for` puede afectar en la eficiencia en al procesar datos masivos.\n\n\nEl laboratorio deberá ser desarrollado sin el uso indiscriminado de iteradores nativos de python (aka \"for\", \"while\"). La idea es que aprendan a exprimir al máximo las funciones optimizadas que nos entrega `numpy`, las cuales vale mencionar, son bastante más eficientes que los iteradores nativos sobre arreglos (*o tensores*).",
   "metadata": {
    "id": "6uBLPj1PzAHs",
    "cell_id": "00005-9b6fbc71-5250-4293-939d-cff84ea69ac4",
    "deepnote_cell_type": "markdown"
   }
  },
  {
   "cell_type": "markdown",
   "source": "## Descripción del laboratorio.",
   "metadata": {
    "id": "wrG4gYabzAHs",
    "cell_id": "00006-aba27b6e-506c-4de4-9ba7-161e8fa8eeb6",
    "deepnote_cell_type": "markdown"
   }
  },
  {
   "cell_type": "markdown",
   "source": "### Importamos librerias utiles 😸",
   "metadata": {
    "id": "MhISwri4zAHy",
    "cell_id": "00007-92b497a3-20e7-40e4-8a65-2115c3cf717b",
    "deepnote_cell_type": "markdown"
   }
  },
  {
   "cell_type": "code",
   "metadata": {
    "ExecuteTime": {
     "end_time": "2021-03-29T00:08:16.884674Z",
     "start_time": "2021-03-29T00:08:16.349846Z"
    },
    "id": "uyc33dKdzAHy",
    "colab": {
     "base_uri": "https://localhost:8080/"
    },
    "executionInfo": {
     "status": "ok",
     "timestamp": 1619926444128,
     "user_tz": 240,
     "elapsed": 7340,
     "user": {
      "displayName": "IGNACIO ALEJANDRO MEZA",
      "photoUrl": "",
      "userId": "17011121633069169364"
     }
    },
    "outputId": "275fee3c-4ef0-4bfb-acb7-e318d613bdce",
    "deepnote_to_be_reexecuted": false,
    "source_hash": "80b1c1a9",
    "execution_start": 1634322312255,
    "execution_millis": 26073,
    "cell_id": "00008-02ea8e34-1cb6-4773-a4b1-3369d7843ddf",
    "deepnote_cell_type": "code"
   },
   "source": "# Libreria Core del lab.\nimport numpy as np\n!pip install --upgrade pandas\n!pip install xlrd\n!pip install openpyxl\nimport pandas as pd\nimport datetime\nfrom scipy import stats\n\nfrom IPython.display import display, Markdown, Latex\n\n#Libreria para plotear\n!pip install --upgrade plotly\n!pip install missingno\nimport matplotlib.pyplot as plt\nimport missingno as msno\nimport plotly.express as px",
   "outputs": [
    {
     "name": "stdout",
     "text": "Requirement already satisfied: pandas in /root/venv/lib/python3.7/site-packages (1.3.3)\nRequirement already satisfied: numpy>=1.17.3 in /shared-libs/python3.7/py/lib/python3.7/site-packages (from pandas) (1.19.5)\nRequirement already satisfied: python-dateutil>=2.7.3 in /shared-libs/python3.7/py-core/lib/python3.7/site-packages (from pandas) (2.8.2)\nRequirement already satisfied: pytz>=2017.3 in /shared-libs/python3.7/py/lib/python3.7/site-packages (from pandas) (2021.3)\nRequirement already satisfied: six>=1.5 in /shared-libs/python3.7/py-core/lib/python3.7/site-packages (from python-dateutil>=2.7.3->pandas) (1.16.0)\n\u001b[33mWARNING: You are using pip version 21.2.4; however, version 21.3 is available.\nYou should consider upgrading via the '/root/venv/bin/python -m pip install --upgrade pip' command.\u001b[0m\nRequirement already satisfied: xlrd in /root/venv/lib/python3.7/site-packages (2.0.1)\n\u001b[33mWARNING: You are using pip version 21.2.4; however, version 21.3 is available.\nYou should consider upgrading via the '/root/venv/bin/python -m pip install --upgrade pip' command.\u001b[0m\nRequirement already satisfied: openpyxl in /root/venv/lib/python3.7/site-packages (3.0.9)\nRequirement already satisfied: et-xmlfile in /root/venv/lib/python3.7/site-packages (from openpyxl) (1.1.0)\n\u001b[33mWARNING: You are using pip version 21.2.4; however, version 21.3 is available.\nYou should consider upgrading via the '/root/venv/bin/python -m pip install --upgrade pip' command.\u001b[0m\nRequirement already satisfied: plotly in /shared-libs/python3.7/py/lib/python3.7/site-packages (5.3.1)\nRequirement already satisfied: tenacity>=6.2.0 in /shared-libs/python3.7/py/lib/python3.7/site-packages (from plotly) (8.0.1)\nRequirement already satisfied: six in /shared-libs/python3.7/py-core/lib/python3.7/site-packages (from plotly) (1.16.0)\n\u001b[33mWARNING: You are using pip version 21.2.4; however, version 21.3 is available.\nYou should consider upgrading via the '/root/venv/bin/python -m pip install --upgrade pip' command.\u001b[0m\nRequirement already satisfied: missingno in /root/venv/lib/python3.7/site-packages (0.5.0)\nRequirement already satisfied: seaborn in /shared-libs/python3.7/py/lib/python3.7/site-packages (from missingno) (0.11.2)\nRequirement already satisfied: scipy in /shared-libs/python3.7/py/lib/python3.7/site-packages (from missingno) (1.7.1)\nRequirement already satisfied: matplotlib in /shared-libs/python3.7/py/lib/python3.7/site-packages (from missingno) (3.4.3)\nRequirement already satisfied: numpy in /shared-libs/python3.7/py/lib/python3.7/site-packages (from missingno) (1.19.5)\nRequirement already satisfied: pillow>=6.2.0 in /shared-libs/python3.7/py/lib/python3.7/site-packages (from matplotlib->missingno) (8.3.2)\nRequirement already satisfied: kiwisolver>=1.0.1 in /shared-libs/python3.7/py/lib/python3.7/site-packages (from matplotlib->missingno) (1.3.2)\nRequirement already satisfied: pyparsing>=2.2.1 in /shared-libs/python3.7/py-core/lib/python3.7/site-packages (from matplotlib->missingno) (2.4.7)\nRequirement already satisfied: python-dateutil>=2.7 in /shared-libs/python3.7/py-core/lib/python3.7/site-packages (from matplotlib->missingno) (2.8.2)\nRequirement already satisfied: cycler>=0.10 in /shared-libs/python3.7/py/lib/python3.7/site-packages (from matplotlib->missingno) (0.10.0)\nRequirement already satisfied: six in /shared-libs/python3.7/py-core/lib/python3.7/site-packages (from cycler>=0.10->matplotlib->missingno) (1.16.0)\nRequirement already satisfied: pandas>=0.23 in /root/venv/lib/python3.7/site-packages (from seaborn->missingno) (1.3.3)\nRequirement already satisfied: pytz>=2017.3 in /shared-libs/python3.7/py/lib/python3.7/site-packages (from pandas>=0.23->seaborn->missingno) (2021.3)\n\u001b[33mWARNING: You are using pip version 21.2.4; however, version 21.3 is available.\nYou should consider upgrading via the '/root/venv/bin/python -m pip install --upgrade pip' command.\u001b[0m\n",
     "output_type": "stream"
    }
   ],
   "execution_count": 1
  },
  {
   "cell_type": "code",
   "metadata": {
    "id": "gQ0-zPV4NNrq",
    "deepnote_to_be_reexecuted": false,
    "source_hash": "c60dc4a7",
    "execution_start": 1634315852279,
    "execution_millis": 4,
    "cell_id": "00009-ba85c0a3-286a-4df8-a94e-78588eb64ebd",
    "deepnote_cell_type": "code"
   },
   "source": "# Si usted está utilizando Colabolatory le puede ser útil este código para cargar los archivos.\ntry:\n    from google.colab import drive\n    drive.mount(\"/content/drive\")\n    path = 'Dirección donde tiene los archivos en el Drive'\nexcept: \n    print('Ignorando conexión drive-colab')",
   "outputs": [
    {
     "name": "stdout",
     "text": "Ignorando conexión drive-colab\n",
     "output_type": "stream"
    }
   ],
   "execution_count": null
  },
  {
   "cell_type": "markdown",
   "source": "<p align=\"center\"><iframe width=\"560\" height=\"315\" src=\"https://www.youtube.com/embed/MW4d8_LLYp8?rel=0&amp;controls=0&amp;showinfo=0\" frameborder=\"1\" allowfullscreen></iframe></p>",
   "metadata": {
    "tags": [],
    "cell_id": "00010-5ea0bd58-e4cf-4cd1-b34d-a6286ab74a6c",
    "deepnote_cell_type": "markdown"
   }
  },
  {
   "cell_type": "markdown",
   "source": "# Segmentación de Clientes en Tienda de Retail 🛍️",
   "metadata": {
    "id": "QDwIXTh7bK_A",
    "cell_id": "00011-0668869e-1260-4409-b506-4251e2a12350",
    "deepnote_cell_type": "markdown"
   }
  },
  {
   "cell_type": "markdown",
   "source": "<p align=\"center\">\n  <img width=300 src=\"https://s1.eestatic.com/2018/04/14/social/la_jungla_-_social_299733421_73842361_854x640.jpg\">\n</p>",
   "metadata": {
    "tags": [],
    "cell_id": "00012-f421236d-70fc-4317-934a-d9ca05ba774a",
    "deepnote_cell_type": "markdown"
   }
  },
  {
   "cell_type": "markdown",
   "source": "## 1.1 Cargar Dataset",
   "metadata": {
    "tags": [],
    "cell_id": "00013-b2816031-9bf6-401b-9ce5-d9a10d6d1395",
    "deepnote_cell_type": "markdown"
   }
  },
  {
   "cell_type": "markdown",
   "source": "Mr. Lepin Mora quien es el gerente de una cotizada tienda de retail en Europa, les solicita si pueden analizar los datos de algunas de sus tiendas y si es posible extraer los diferenciar los tipos de clientes que posee el retail.\n\nPara esto, el área de ventas les entrega el archivo `online_retail_II.xlsx` con el que se les pide que cargue y visualicen algunas de las filas que componen el Dataset.\n\nRealice una primera visualización de los datos y señale los atributos que componen el dataset. Señale las columnas que conforman el dataset, el tipo de variable presente en cada columna y comente que representa cada una de estas.\n\n**Respuesta:**",
   "metadata": {
    "tags": [],
    "cell_id": "00014-d3ac5fae-56fd-4d4e-83db-be9df9d130a4",
    "deepnote_cell_type": "markdown"
   }
  },
  {
   "cell_type": "code",
   "metadata": {
    "id": "7FNOu-CvjV5m",
    "colab": {
     "base_uri": "https://localhost:8080/",
     "height": 204
    },
    "executionInfo": {
     "status": "ok",
     "timestamp": 1619717831933,
     "user_tz": 240,
     "elapsed": 77353,
     "user": {
      "displayName": "IGNACIO ALEJANDRO MEZA",
      "photoUrl": "",
      "userId": "17011121633069169364"
     }
    },
    "outputId": "90b4f92c-71df-44d4-8084-4dd06a6179e4",
    "deepnote_to_be_reexecuted": false,
    "source_hash": "579ecb11",
    "execution_start": 1634322346826,
    "execution_millis": 480,
    "cell_id": "00015-b7ecc992-93dc-4d37-8161-9e2a5238e17d",
    "deepnote_cell_type": "code"
   },
   "source": "df_retail = pd.read_pickle(\"online_retail_II.pickle\")\ndf_retail = df_retail.astype(\n    {\n        \"Invoice\": \"category\",\n        \"StockCode\": \"category\",\n        \"Description\": str,\n        \"Customer ID\": \"category\",\n    }\n)\ndf_retail.head()\n",
   "outputs": [
    {
     "output_type": "execute_result",
     "execution_count": 2,
     "data": {
      "application/vnd.deepnote.dataframe.v2+json": {
       "error": "Traceback (most recent call last):\n  File \"/shared-libs/code/variable_explorer.py\", line 167, in dataframe_formatter\n    return {MIME_TYPE: describe_pd_dataframe(df)}\n  File \"/shared-libs/code/variable_explorer_helpers.py\", line 163, in describe_pd_dataframe\n    df_analyzed.columns = pd.io.parsers.ParserBase(\nAttributeError: module 'pandas.io.parsers' has no attribute 'ParserBase'\n"
      },
      "text/plain": "  Invoice StockCode                          Description  Quantity  \\\n0  489434     85048  15CM CHRISTMAS GLASS BALL 20 LIGHTS        12   \n1  489434    79323P                   PINK CHERRY LIGHTS        12   \n2  489434    79323W                  WHITE CHERRY LIGHTS        12   \n3  489434     22041         RECORD FRAME 7\" SINGLE SIZE         48   \n4  489434     21232       STRAWBERRY CERAMIC TRINKET BOX        24   \n\n          InvoiceDate  Price Customer ID         Country  \n0 2009-12-01 07:45:00   6.95     13085.0  United Kingdom  \n1 2009-12-01 07:45:00   6.75     13085.0  United Kingdom  \n2 2009-12-01 07:45:00   6.75     13085.0  United Kingdom  \n3 2009-12-01 07:45:00   2.10     13085.0  United Kingdom  \n4 2009-12-01 07:45:00   1.25     13085.0  United Kingdom  ",
      "text/html": "<div>\n<style scoped>\n    .dataframe tbody tr th:only-of-type {\n        vertical-align: middle;\n    }\n\n    .dataframe tbody tr th {\n        vertical-align: top;\n    }\n\n    .dataframe thead th {\n        text-align: right;\n    }\n</style>\n<table border=\"1\" class=\"dataframe\">\n  <thead>\n    <tr style=\"text-align: right;\">\n      <th></th>\n      <th>Invoice</th>\n      <th>StockCode</th>\n      <th>Description</th>\n      <th>Quantity</th>\n      <th>InvoiceDate</th>\n      <th>Price</th>\n      <th>Customer ID</th>\n      <th>Country</th>\n    </tr>\n  </thead>\n  <tbody>\n    <tr>\n      <th>0</th>\n      <td>489434</td>\n      <td>85048</td>\n      <td>15CM CHRISTMAS GLASS BALL 20 LIGHTS</td>\n      <td>12</td>\n      <td>2009-12-01 07:45:00</td>\n      <td>6.95</td>\n      <td>13085.0</td>\n      <td>United Kingdom</td>\n    </tr>\n    <tr>\n      <th>1</th>\n      <td>489434</td>\n      <td>79323P</td>\n      <td>PINK CHERRY LIGHTS</td>\n      <td>12</td>\n      <td>2009-12-01 07:45:00</td>\n      <td>6.75</td>\n      <td>13085.0</td>\n      <td>United Kingdom</td>\n    </tr>\n    <tr>\n      <th>2</th>\n      <td>489434</td>\n      <td>79323W</td>\n      <td>WHITE CHERRY LIGHTS</td>\n      <td>12</td>\n      <td>2009-12-01 07:45:00</td>\n      <td>6.75</td>\n      <td>13085.0</td>\n      <td>United Kingdom</td>\n    </tr>\n    <tr>\n      <th>3</th>\n      <td>489434</td>\n      <td>22041</td>\n      <td>RECORD FRAME 7\" SINGLE SIZE</td>\n      <td>48</td>\n      <td>2009-12-01 07:45:00</td>\n      <td>2.10</td>\n      <td>13085.0</td>\n      <td>United Kingdom</td>\n    </tr>\n    <tr>\n      <th>4</th>\n      <td>489434</td>\n      <td>21232</td>\n      <td>STRAWBERRY CERAMIC TRINKET BOX</td>\n      <td>24</td>\n      <td>2009-12-01 07:45:00</td>\n      <td>1.25</td>\n      <td>13085.0</td>\n      <td>United Kingdom</td>\n    </tr>\n  </tbody>\n</table>\n</div>"
     },
     "metadata": {}
    }
   ],
   "execution_count": 2
  },
  {
   "cell_type": "markdown",
   "source": "## 1.2 Analisís Explotatorio de los Datos [0.5 puntos] \n\nEn base a la primera visualización del dataset, *Don Mora* le solicita que realicen un análisis exploratorio de los datos, para esto les deberán realizar un análisis univariado y multivariado. De la revisión, ustedes deben explicar potenciales anomalías visualizadas y señalar si existe la necesidad de realizar una limpieza de datos.\n\nExplique a que nos referimos con análisis univariable, multivariable y de datos faltantes. ¿Qué beneficios nos otorga estudiar estos datos?. Sea conciso con su respuesta y no escriba mas de 5 líneas para su respuesta.\n\n**Respuesta a la Pregunta:**",
   "metadata": {
    "id": "Rcjs-dd1V-1u",
    "cell_id": "00016-95d543d8-e605-4635-98c6-8a4a1293df5a",
    "deepnote_cell_type": "markdown"
   }
  },
  {
   "cell_type": "markdown",
   "source": "> Respuesta Aquí",
   "metadata": {
    "tags": [],
    "cell_id": "00017-6d2ae959-397e-46d6-af72-1d1023615611",
    "deepnote_cell_type": "markdown"
   }
  },
  {
   "cell_type": "markdown",
   "source": "### 1.2.1 Análisis Univariado [2 Puntos]\n\nA continuación, se le presentan dos funciones para analizar los datos que componen un dataframe. La primera de estas es la función ``profile_serie()`` la cual recibe una serie y le entrega un análisis detallado de los datos que conforman dicha serie. \n\nEjecute la funcion ``profile_serie()`` sobre cada serie para realizar un análisis univariado de estas. A continuación, comente acerca de el comportamiento de cada variable según las estadísticas descriptivas y los gráficos generados.",
   "metadata": {
    "tags": [],
    "cell_id": "00018-0d2e4dfa-8dfb-4959-b694-e5ac27dd372a",
    "deepnote_cell_type": "markdown"
   }
  },
  {
   "cell_type": "code",
   "metadata": {
    "tags": [],
    "deepnote_to_be_reexecuted": false,
    "source_hash": "60609391",
    "execution_start": 1634324718520,
    "execution_millis": 2,
    "cell_id": "00019-075c9c6a-b956-4329-a280-abd00da1a752",
    "deepnote_cell_type": "code"
   },
   "source": "from pandas.api.types import is_numeric_dtype\nfrom pandas.core.dtypes.common import is_datetime_or_timedelta_dtype\n\n\ndef profile_serie(serie_in, n_samples=1000, random_state=42):\n    serie = serie_in.copy()\n\n    profile = pd.Series(dtype='object')\n    profile[\"Type\"] = serie.dtype\n    profile = pd.concat([profile, serie.describe(datetime_is_numeric=True)])\n\n    # profile = pd.Series([])\n\n    if is_numeric_dtype(serie):\n        profile[\"Negative\"] = (serie < 0).sum()\n        profile[\"Negative (%)\"] = (\n            str(round((serie < 0).sum() / len(serie) * 100, 2)) + \" %\"\n        )\n        profile[\"Zeros\"] = (serie == 0).sum()\n        profile[\"Zeros (%)\"] = (\n            str(round((serie == 0).sum() / len(serie) * 100, 2)) + \" %\"\n        )\n        profile[\"Kurt\"] = serie.kurt()\n        profile[\"Skew\"] = serie.skew()\n\n    profile[\" \"] = \" \"  # espacio\n\n    profile[\"Missing cells\"] = serie.isnull().sum()\n    profile[\"Missing cells (%)\"] = (\n        str(round(serie.isnull().sum() / len(serie) * 100, 2)) + \" %\"\n    )\n    profile[\"Duplicate rows\"] = serie.duplicated(False).sum()\n    profile[\"Duplicate rows (%)\"] = (\n        str(round(serie.duplicated(False).sum() / len(serie) * 100, 2)) + \" %\"\n    )\n    profile[\"Total size in memory\"] = str(serie.memory_usage(index=True)) + \" bytes\"\n\n    # profile = pd.concat([profile, description])\n\n    profile = profile.rename(\n        index={\n            \"count\": \"Number of observations\",\n            \"mean\": \"Mean\",\n            \"std\": \"Std\",\n            \"min\": \"Min\",\n            \"max\": \"Max\",\n            \"unique\": \"Unique\",\n            \"top\": \"Top\",\n            \"freq\": \"Freq\",\n        }\n    )\n    no_outliers_fig = None\n\n    if is_numeric_dtype(serie):\n\n        sampled_serie = serie.sample(n_samples, random_state=random_state)\n        fig = px.histogram(\n            sampled_serie, marginal=\"box\", title=f\"{serie.name} - With Outliers\"\n        )\n\n        no_outliers = sampled_serie.loc[(np.abs(stats.zscore(sampled_serie)) < 3)]\n        # zscore = https://es.wikipedia.org/wiki/Unidad_tipificada\n        \n        no_outliers_fig = px.histogram(\n            no_outliers, marginal=\"box\", title=f\"{serie.name} - Without Outliers\"\n        )\n\n    elif is_datetime_or_timedelta_dtype(serie):\n        sampled_serie = serie.sample(n_samples, random_state=random_state)\n        fig = px.histogram(sampled_serie, marginal=\"box\", title=f\"{serie.name}\")\n    \n    else:\n        count = (\n            serie.value_counts()[0:100]\n            .reset_index()\n            .rename(columns={\"index\": serie.name, serie.name: \"Count\"})\n        )\n        fig = px.bar(\n            x=count[serie.name].astype(str),\n            y=count[\"Count\"],\n            title=f\"100 Most common categories of {serie.name}\",\n        )\n    display(Markdown(f'## {serie.name} Profile'))\n    display(profile)\n    fig.show()\n\n    if no_outliers_fig:\n        no_outliers_fig.show()\n\n    # return fig, profile",
   "outputs": [],
   "execution_count": 35
  },
  {
   "cell_type": "code",
   "metadata": {
    "tags": [],
    "cell_id": "00020-0dd41995-78f8-4f2c-ac5d-f36288ccfda0",
    "deepnote_cell_type": "code"
   },
   "source": "profile_serie(df_retail['primera_columna']) ",
   "outputs": [],
   "execution_count": null
  },
  {
   "cell_type": "markdown",
   "source": "    Análisis de la primera serie...",
   "metadata": {
    "tags": [],
    "cell_id": "00021-d9508a4a-ab9e-470f-b20e-2f3b1a095d99",
    "deepnote_cell_type": "markdown"
   }
  },
  {
   "cell_type": "code",
   "metadata": {
    "tags": [],
    "cell_id": "00022-d0bb6e4c-430f-42e3-9f3f-bd372817d286",
    "deepnote_cell_type": "code"
   },
   "source": "profile_serie(...)",
   "outputs": [],
   "execution_count": null
  },
  {
   "cell_type": "markdown",
   "source": "    Análisis de la primera n-esima serie...",
   "metadata": {
    "tags": [],
    "cell_id": "00023-ecb7fa4e-63ba-490c-8da7-211532bff49b",
    "deepnote_cell_type": "markdown"
   }
  },
  {
   "cell_type": "markdown",
   "source": "### 1.2.2 Análisis Multivariado y Datos Faltantes [1 ptos]\n\nEn segundo lugar encontrará la función ``profile_df()`` que recibe un dataframe como entrada y realiza un análisis bivariado de todas las variables numéricas que conforman el dataframe, un analisis de la correlación de Pearson entre las variables numericas del dataframe y la matriz de datos faltantes.",
   "metadata": {
    "tags": [],
    "cell_id": "00023-70400e15-a0f7-41f7-98a5-4b81f1d3315a",
    "deepnote_cell_type": "markdown"
   }
  },
  {
   "cell_type": "code",
   "metadata": {
    "tags": [],
    "deepnote_to_be_reexecuted": false,
    "source_hash": "ac31b9bd",
    "execution_start": 1634322697785,
    "execution_millis": 2,
    "cell_id": "00024-527d7ab1-22cb-461d-bb32-57ed65f2f2ab",
    "deepnote_cell_type": "code"
   },
   "source": "def profile_df(dataframe_in):\n    df = dataframe_in.copy()\n\n    list_type = []\n    for col in list(df.columns):\n        if is_numeric_dtype(df[col]) or \\\n        pd.core.dtypes.common.is_datetime_or_timedelta_dtype(df[col]):\n            list_type.append(col)\n\n    \n    display(Markdown('## Bivariant Analysis:'))\n    for i in range(len(list_type)):\n        for j in range(i+1, len(list_type)):\n            plt.scatter(df[list_type[i]], df[list_type[j]])\n            plt.xlabel(list_type[i]) \n            plt.ylabel(list_type[j]) \n            plt.title(f\"{list_type[i]} v/s {list_type[j]}\")\n            plt.show()\n\n    display(Markdown('## Correlation:'))\n    fig_corr = px.imshow(df.corr())\n    fig_corr.show()\n\n    display(Markdown('## Missing Matrix:'))\n    fig, ax = plt.subplots(figsize=[15, 10])\n    msno.matrix(df, ax=ax, sparkline=False)",
   "outputs": [],
   "execution_count": 17
  },
  {
   "cell_type": "markdown",
   "source": "### 1.2.3 Limpieza de Datos [1 pto]\n\nComo pudo ver en las secciones anteriores, los datos presentan valores erroneos, es por esto que se le solicita que realice una función que permita limpiar el dataset. Realice esta función en base observaciones propias y considere como imposible tener cantidades negativas en las ventas.\n\nUna vez realizada la función, realice nuevamente el análisis exploratorio y comente las principales diferencias.\n\n**Respuesta:**",
   "metadata": {
    "tags": [],
    "cell_id": "00026-df20962a-a04e-4edd-9d19-3acc252a7f29",
    "deepnote_cell_type": "markdown"
   }
  },
  {
   "cell_type": "code",
   "metadata": {
    "tags": [],
    "cell_id": "00027-c103a1ac-7b8e-4ad8-af70-1385769b6c33",
    "deepnote_cell_type": "code"
   },
   "source": "Código Aquí",
   "outputs": [],
   "execution_count": null
  },
  {
   "cell_type": "markdown",
   "source": "### 1.2.4 Obtención de TOPs [0.75 ptos]",
   "metadata": {
    "id": "dkyp81nkBghF",
    "cell_id": "00028-b5630b67-565d-42f3-a387-f67a80dda8ea",
    "deepnote_cell_type": "markdown"
   }
  },
  {
   "cell_type": "markdown",
   "source": "Sin considerar los comentarios realizados en la sección 1.2 , *Don Mora* les pide obtener el **Top de 30 productos que generan más ganancias** para la tienda de retail. Deben considerar todo el registro temporal presente en el dataset y entregar la información en un gráfico de barras de los ingresos/cantidades v/s el nombre de los productos (Utilice `plotly`). ¿Los artículos más vendidos son los mismos que generan más ganancias?, Comente los resultados obtenidos.\n\n**Resultados:**",
   "metadata": {
    "id": "FqWpKnmn6W0y",
    "cell_id": "00029-71382778-46fe-4d49-9481-afec1667525a",
    "deepnote_cell_type": "markdown"
   }
  },
  {
   "cell_type": "code",
   "source": "> Código Aquí",
   "metadata": {
    "tags": [],
    "cell_id": "00029-6e40375f-f1de-4643-8460-b3b2f74ec335",
    "deepnote_cell_type": "code"
   },
   "outputs": [],
   "execution_count": null
  },
  {
   "cell_type": "markdown",
   "source": "### 1.2.5 Visualización del registro temporal [0,75 ptos]",
   "metadata": {
    "tags": [],
    "cell_id": "00032-61832905-3832-49f7-884b-4ffdd1045252",
    "deepnote_cell_type": "markdown"
   }
  },
  {
   "cell_type": "markdown",
   "source": "El dueño del retail en su afán por saber más sobre los datos de su firma les solicita que grafiquen las ventas respecto al tiempo. Con esto les aclara que durante el día tienen muchas variaciones en sus ventas, por lo que les recomienda que consideren el registro temporal como `año-mes-día`. ¿Es posible observar datos extraños?, Comente lo que observa del gráfico.",
   "metadata": {
    "tags": [],
    "cell_id": "00033-7886e714-8ad0-4387-b204-9d01f927df14",
    "deepnote_cell_type": "markdown"
   }
  },
  {
   "cell_type": "code",
   "metadata": {
    "id": "SBr7gQOAkmGV",
    "deepnote_to_be_reexecuted": false,
    "source_hash": "1c692b9d",
    "execution_start": 1634274396771,
    "execution_millis": 1,
    "cell_id": "00034-de869967-0472-43f2-b4c7-63ec649e6447",
    "deepnote_cell_type": "code"
   },
   "source": "def plot_ventas(dataframe):\n    pass",
   "outputs": [],
   "execution_count": null
  },
  {
   "cell_type": "markdown",
   "source": "# Conclusión\nEso ha sido todo para el lab de hoy, recuerden que el laboratorio tiene un plazo de entrega de una semana y que **los días de atraso no se pueden utilizar para entregas de lab** solo para tareas. Cualquier duda del laboratorio, no duden en contactarnos por mail o U-cursos.\n\n![Gracias Totales!](https://i.pinimg.com/originals/65/ae/27/65ae270df87c3c4adcea997e48f60852.gif \"bruno\")\n",
   "metadata": {
    "id": "Rg4ZMq8ezAH6",
    "cell_id": "00043-719d1a35-6773-42d7-8f88-1cc37eda7a1b",
    "deepnote_cell_type": "markdown"
   }
  },
  {
   "cell_type": "markdown",
   "source": "<br>\n<center>\n<img src=\"https://i.kym-cdn.com/photos/images/original/001/194/195/b18.png\" width=100 height=50 />\n</center>\n<br>",
   "metadata": {
    "id": "wCL1lACBzAH7",
    "cell_id": "00044-b636da8f-c28b-4f2c-894e-1326a421926b",
    "deepnote_cell_type": "markdown"
   }
  },
  {
   "cell_type": "markdown",
   "source": "<a style='text-decoration:none;line-height:16px;display:flex;color:#5B5B62;padding:10px;justify-content:end;' href='https://deepnote.com?utm_source=created-in-deepnote-cell&projectId=87110296-876e-426f-b91d-aaf681223468' target=\"_blank\">\n<img alt='Created in deepnote.com' style='display:inline;max-height:16px;margin:0px;margin-right:7.5px;' src='data:image/svg+xml;base64,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' > </img>\nCreated in <span style='font-weight:600;margin-left:4px;'>Deepnote</span></a>",
   "metadata": {
    "tags": [],
    "created_in_deepnote_cell": true,
    "deepnote_cell_type": "markdown"
   }
  }
 ],
 "nbformat": 4,
 "nbformat_minor": 0,
 "metadata": {
  "kernelspec": {
   "display_name": "Python 3",
   "language": "python",
   "name": "python3"
  },
  "language_info": {
   "codemirror_mode": {
    "name": "ipython",
    "version": 3
   },
   "file_extension": ".py",
   "mimetype": "text/x-python",
   "name": "python",
   "nbconvert_exporter": "python",
   "pygments_lexer": "ipython3",
   "version": "3.8.3"
  },
  "toc": {
   "base_numbering": 1,
   "nav_menu": {},
   "number_sections": true,
   "sideBar": true,
   "skip_h1_title": true,
   "title_cell": "Tabla de Contenidos",
   "title_sidebar": "Contenidos",
   "toc_cell": false,
   "toc_position": {
    "height": "calc(100% - 180px)",
    "left": "10px",
    "top": "150px",
    "width": "241.867px"
   },
   "toc_section_display": true,
   "toc_window_display": true
  },
  "varInspector": {
   "cols": {
    "lenName": 16,
    "lenType": 16,
    "lenVar": 40
   },
   "kernels_config": {
    "python": {
     "delete_cmd_postfix": "",
     "delete_cmd_prefix": "del ",
     "library": "var_list.py",
     "varRefreshCmd": "print(var_dic_list())"
    },
    "r": {
     "delete_cmd_postfix": ") ",
     "delete_cmd_prefix": "rm(",
     "library": "var_list.r",
     "varRefreshCmd": "cat(var_dic_list()) "
    }
   },
   "types_to_exclude": [
    "module",
    "function",
    "builtin_function_or_method",
    "instance",
    "_Feature"
   ],
   "window_display": false
  },
  "colab": {
   "name": "Copia de Tarea1.ipynb",
   "provenance": [],
   "collapsed_sections": [
    "Rcjs-dd1V-1u",
    "dkyp81nkBghF",
    "THmFfYs1AhAW"
   ],
   "toc_visible": true
  },
  "deepnote_notebook_id": "15b5ce14-e074-4f33-9c56-8f169cc96a69",
  "deepnote": {},
  "deepnote_execution_queue": []
 }
}