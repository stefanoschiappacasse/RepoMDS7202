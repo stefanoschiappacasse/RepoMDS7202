{
 "cells": [
  {
   "cell_type": "markdown",
   "metadata": {
    "cell_id": "00000-73f3e32f-2ef2-4c8f-8a16-d0512209e3ca",
    "deepnote_cell_type": "markdown",
    "id": "XUZ1dFPHzAHl"
   },
   "source": [
    "<h1><center>Laboratorio 7: Aprendizaje Supervisado 🔮</center></h1>\n",
    "\n",
    "<center><strong>MDS7202: Laboratorio de Programación Científica para Ciencia de Datos</strong></center>"
   ]
  },
  {
   "cell_type": "markdown",
   "metadata": {
    "cell_id": "00001-f0f6f193-27cb-4e14-8eb4-8192d12f7721",
    "deepnote_cell_type": "markdown",
    "id": "UD8X1uhGzAHq"
   },
   "source": [
    "### Cuerpo Docente:\n",
    "\n",
    "- Profesor: Pablo Badilla\n",
    "- Auxiliar: Ignacio Meza D.\n",
    "- Ayudante: Constanza Peña"
   ]
  },
  {
   "cell_type": "markdown",
   "metadata": {
    "cell_id": "00002-cbc359e4-c6bf-4a18-b935-8b000e48c13d",
    "deepnote_cell_type": "markdown",
    "id": "tXflExjqzAHr"
   },
   "source": [
    "### Equipo: SUPER IMPORTANTE - notebooks sin nombre no serán revisados\n",
    "\n",
    "- Nombre de alumno 1: Stefano Schiappacasse\n"
   ]
  },
  {
   "cell_type": "markdown",
   "metadata": {
    "cell_id": "00003-50e2b812-e515-42a0-b713-6dbfaa83c601",
    "deepnote_cell_type": "markdown",
    "id": "AD-V0bbZzAHr"
   },
   "source": [
    "### **Link de repositorio de GitHub:** `https://github.com/stefanoschiappacasse/RepoMDS7202`"
   ]
  },
  {
   "cell_type": "markdown",
   "metadata": {
    "cell_id": "00005-119cf881-89af-4ccc-8bf7-2763d5eb0785",
    "deepnote_cell_type": "markdown",
    "id": "6uBLPj1PzAHs"
   },
   "source": [
    "## Temas a tratar\n",
    "\n",
    "- Aprendizaje Supervisado\n",
    "- Flujos de datos a través de `Pipelines`.\n",
    "\n",
    "## Reglas\n",
    "\n",
    "- Fecha de entrega: TBD\n",
    "- **Grupos de 2 personas**\n",
    "- **Ausentes** deberán realizar la actividad solos. \n",
    "- Cualquier duda fuera del horario de clases al foro. Mensajes al equipo docente serán respondidos por este medio.\n",
    "- Prohibidas las copias. \n",
    "- Pueden usar cualquer matrial del curso que estimen conveniente.\n",
    "\n",
    "## Objetivos principales del laboratorio\n",
    "\n",
    "- Comprender el funcionamiento de clasificadores/regresores.\n",
    "- Generar múltiples modelos predictivos.\n",
    "- Comprender las ventajas de crear modelos en pipeline vs hacer las operaciones a mano.\n",
    "\n",
    "El laboratorio deberá ser desarrollado sin el uso indiscriminado de iteradores nativos de python (aka \"for\", \"while\"). La idea es que aprendan a exprimir al máximo las funciones optimizadas que nos entrega `pandas`, las cuales vale mencionar, son bastante más eficientes que los iteradores nativos sobre `DataFrames`."
   ]
  },
  {
   "cell_type": "markdown",
   "metadata": {
    "cell_id": "00006-d1bce751-1f1d-4470-8cbb-a77ba271ef39",
    "deepnote_cell_type": "markdown",
    "id": "MhISwri4zAHy"
   },
   "source": [
    "#Importamos librerias utiles 😸"
   ]
  },
  {
   "cell_type": "code",
   "execution_count": 1,
   "metadata": {
    "ExecuteTime": {
     "end_time": "2021-03-29T00:08:16.884674Z",
     "start_time": "2021-03-29T00:08:16.349846Z"
    },
    "cell_id": "00007-e1ebdc56-4008-489c-85bc-b1ffb9cbbced",
    "colab": {
     "base_uri": "https://localhost:8080/"
    },
    "deepnote_cell_type": "code",
    "deepnote_to_be_reexecuted": false,
    "execution_millis": 7630,
    "execution_start": 1636741163382,
    "id": "uyc33dKdzAHy",
    "outputId": "e8cc251c-aa25-4fdb-db15-3027707cfbdf",
    "source_hash": "cb3614e"
   },
   "outputs": [],
   "source": [
    "# Libreria Core del lab.\n",
    "import numpy as np\n",
    "import pandas as pd\n",
    "from sklearn.pipeline import Pipeline\n",
    "from sklearn.compose import ColumnTransformer\n",
    "from sklearn.model_selection import train_test_split \n",
    "\n",
    "# Pre-procesamiento\n",
    "from sklearn.preprocessing import MinMaxScaler\n",
    "from sklearn.preprocessing import StandardScaler\n",
    "from sklearn.preprocessing import FunctionTransformer\n",
    "from sklearn.preprocessing import PowerTransformer\n",
    "from sklearn.preprocessing import OneHotEncoder\n",
    "from sklearn.preprocessing import LabelEncoder\n",
    "from sklearn.preprocessing import OrdinalEncoder\n",
    "from sklearn.preprocessing import LabelBinarizer\n",
    "from sklearn.tree import DecisionTreeClassifier\n",
    "from sklearn.base import BaseEstimator, TransformerMixin\n",
    "\n",
    "#Clasificadores\n",
    "from sklearn.svm import SVC, LinearSVC\n",
    "from sklearn.tree import DecisionTreeClassifier\n",
    "from sklearn.naive_bayes import GaussianNB\n",
    "from sklearn.ensemble import RandomForestClassifier\n",
    "from sklearn.neighbors import KNeighborsClassifier\n",
    "\n",
    "#Regresores\n",
    "from sklearn.linear_model import LinearRegression, Ridge, Lasso, ElasticNet\n",
    "from sklearn.svm import SVR\n",
    "from sklearn.ensemble import RandomForestRegressor\n",
    "\n",
    "\n",
    "\n",
    "# Metricas de evaluación\n",
    "from sklearn.metrics import classification_report\n",
    "from sklearn.metrics import accuracy_score\n",
    "from sklearn.metrics import f1_score\n",
    "from sklearn.metrics import cohen_kappa_score\n",
    "from sklearn.metrics import confusion_matrix\n",
    "from sklearn.metrics import mean_squared_error, r2_score\n",
    "\n",
    "#Libreria para plotear\n",
    "# !pip install --upgrade plotly\n",
    "import plotly.express as px\n",
    "from plotly.subplots import make_subplots\n",
    "import plotly.graph_objects as go\n",
    "\n",
    "# UMAP\n",
    "# !pip install umap-learn"
   ]
  },
  {
   "cell_type": "markdown",
   "metadata": {
    "cell_id": "00008-7877e530-5ed5-483e-af0a-4fd26434d7dc",
    "deepnote_cell_type": "markdown",
    "id": "5FTGE74b3FBU"
   },
   "source": [
    "https://www.kaggle.com/antoinekrajnc/soccer-players-statistics"
   ]
  },
  {
   "cell_type": "markdown",
   "metadata": {
    "cell_id": "00009-2d8a21b8-a5ac-41ee-9a17-15c179c9b666",
    "deepnote_cell_type": "markdown",
    "id": "xpOTbQcxbSiy"
   },
   "source": [
    "# 1. Predicciones Futboleras\n",
    "\n",
    "<p align=\"center\">\n",
    "  <img src=\"https://drive.google.com/uc?export=view&id=1BnO4tyh3vM2P199Ec9s3JjngQ4qQ9seP\"\n",
    "\" width=\"300\">\n",
    "</p>\n",
    "\n",
    "\n",
    "Tras el trágico despido de la mítica mascota de Maipú, Renacín decide adentrarse como consultor en el mercado futbolero, el cuál (para variar...) está cargado en especulaciones. \n",
    "\n",
    "Como su principal tarea será asesorar a los directivos de los clubes sobre cuál jugador comprar y cuál no, Renacín desea generar modelos predictivos que evaluén distintas características de los jugadores; todo con el fin de tomar decisiones concretas basadas en los datos.\n",
    "\n",
    "Sin embargo, su condición de corporeo le impidió tomar la versión anterior de MDS7202, por lo que este motivo Renacín contrata a su equipo para lograr su objetivo final. Dado que aún tiene fuertes vínculos con la dirección de deportes de la municipalidad, el corporeo le entrega base de datos con las estadísticas de cada jugador para que su equipo empieze a trabajar ya con un dataset listo para ser usado.\n"
   ]
  },
  {
   "cell_type": "markdown",
   "metadata": {
    "cell_id": "00010-6b2847d4-5b92-44b7-9ce0-c6b6779ac157",
    "deepnote_cell_type": "markdown",
    "id": "jnmZfFpxTTYX"
   },
   "source": [
    "**Los Datos**\n",
    "\n",
    "Para este laboratorio deberán trabajar con los csv `statsplayers.csv` y `salarios.pickle`, donde deberán aplicar algoritmos de de aprendizaje supervisado (clasificación y regresión) en base a características que describen de jugadores de futbol.\n",
    "\n",
    "Para comenzar cargue el dataset señalado y a continuación vea el reporte **`Player_Stats_Report.html`** (adjunto en la carpeta del enunciado) que describe las características principales del `DataFrame`."
   ]
  },
  {
   "cell_type": "code",
   "execution_count": 2,
   "metadata": {
    "cell_id": "00012-64bcb839-4478-423e-9bd1-cdb81eefc97e",
    "colab": {
     "base_uri": "https://localhost:8080/",
     "height": 309
    },
    "deepnote_cell_type": "code",
    "deepnote_to_be_reexecuted": false,
    "execution_millis": 184,
    "execution_start": 1636742947300,
    "id": "bED3w3tDbSCf",
    "outputId": "8961b413-9ab2-4d57-8d77-648860771520",
    "source_hash": "65944a94"
   },
   "outputs": [
    {
     "data": {
      "text/html": [
       "<div>\n",
       "<style scoped>\n",
       "    .dataframe tbody tr th:only-of-type {\n",
       "        vertical-align: middle;\n",
       "    }\n",
       "\n",
       "    .dataframe tbody tr th {\n",
       "        vertical-align: top;\n",
       "    }\n",
       "\n",
       "    .dataframe thead th {\n",
       "        text-align: right;\n",
       "    }\n",
       "</style>\n",
       "<table border=\"1\" class=\"dataframe\">\n",
       "  <thead>\n",
       "    <tr style=\"text-align: right;\">\n",
       "      <th></th>\n",
       "      <th>Name</th>\n",
       "      <th>Nationality</th>\n",
       "      <th>National_Position</th>\n",
       "      <th>Club_Position</th>\n",
       "      <th>Height</th>\n",
       "      <th>Weight</th>\n",
       "      <th>Preffered_Foot</th>\n",
       "      <th>Age</th>\n",
       "      <th>Work_Rate</th>\n",
       "      <th>Weak_foot</th>\n",
       "      <th>...</th>\n",
       "      <th>Agility</th>\n",
       "      <th>Jumping</th>\n",
       "      <th>Heading</th>\n",
       "      <th>Shot_Power</th>\n",
       "      <th>Finishing</th>\n",
       "      <th>Long_Shots</th>\n",
       "      <th>Curve</th>\n",
       "      <th>Freekick_Accuracy</th>\n",
       "      <th>Penalties</th>\n",
       "      <th>Volleys</th>\n",
       "    </tr>\n",
       "  </thead>\n",
       "  <tbody>\n",
       "    <tr>\n",
       "      <th>0</th>\n",
       "      <td>Cristiano Ronaldo</td>\n",
       "      <td>Portugal</td>\n",
       "      <td>LS</td>\n",
       "      <td>LW</td>\n",
       "      <td>185</td>\n",
       "      <td>80</td>\n",
       "      <td>Right</td>\n",
       "      <td>32</td>\n",
       "      <td>High / Low</td>\n",
       "      <td>4</td>\n",
       "      <td>...</td>\n",
       "      <td>90</td>\n",
       "      <td>95</td>\n",
       "      <td>85</td>\n",
       "      <td>92</td>\n",
       "      <td>93</td>\n",
       "      <td>90</td>\n",
       "      <td>81</td>\n",
       "      <td>76</td>\n",
       "      <td>85</td>\n",
       "      <td>88</td>\n",
       "    </tr>\n",
       "    <tr>\n",
       "      <th>1</th>\n",
       "      <td>Lionel Messi</td>\n",
       "      <td>Argentina</td>\n",
       "      <td>RW</td>\n",
       "      <td>RW</td>\n",
       "      <td>170</td>\n",
       "      <td>72</td>\n",
       "      <td>Left</td>\n",
       "      <td>29</td>\n",
       "      <td>Medium / Medium</td>\n",
       "      <td>4</td>\n",
       "      <td>...</td>\n",
       "      <td>90</td>\n",
       "      <td>68</td>\n",
       "      <td>71</td>\n",
       "      <td>85</td>\n",
       "      <td>95</td>\n",
       "      <td>88</td>\n",
       "      <td>89</td>\n",
       "      <td>90</td>\n",
       "      <td>74</td>\n",
       "      <td>85</td>\n",
       "    </tr>\n",
       "    <tr>\n",
       "      <th>2</th>\n",
       "      <td>Neymar</td>\n",
       "      <td>Brazil</td>\n",
       "      <td>LW</td>\n",
       "      <td>LW</td>\n",
       "      <td>174</td>\n",
       "      <td>68</td>\n",
       "      <td>Right</td>\n",
       "      <td>25</td>\n",
       "      <td>High / Medium</td>\n",
       "      <td>5</td>\n",
       "      <td>...</td>\n",
       "      <td>96</td>\n",
       "      <td>61</td>\n",
       "      <td>62</td>\n",
       "      <td>78</td>\n",
       "      <td>89</td>\n",
       "      <td>77</td>\n",
       "      <td>79</td>\n",
       "      <td>84</td>\n",
       "      <td>81</td>\n",
       "      <td>83</td>\n",
       "    </tr>\n",
       "    <tr>\n",
       "      <th>3</th>\n",
       "      <td>Luis Suárez</td>\n",
       "      <td>Uruguay</td>\n",
       "      <td>LS</td>\n",
       "      <td>ST</td>\n",
       "      <td>182</td>\n",
       "      <td>85</td>\n",
       "      <td>Right</td>\n",
       "      <td>30</td>\n",
       "      <td>High / Medium</td>\n",
       "      <td>4</td>\n",
       "      <td>...</td>\n",
       "      <td>86</td>\n",
       "      <td>69</td>\n",
       "      <td>77</td>\n",
       "      <td>87</td>\n",
       "      <td>94</td>\n",
       "      <td>86</td>\n",
       "      <td>86</td>\n",
       "      <td>84</td>\n",
       "      <td>85</td>\n",
       "      <td>88</td>\n",
       "    </tr>\n",
       "    <tr>\n",
       "      <th>4</th>\n",
       "      <td>Manuel Neuer</td>\n",
       "      <td>Germany</td>\n",
       "      <td>GK</td>\n",
       "      <td>GK</td>\n",
       "      <td>193</td>\n",
       "      <td>92</td>\n",
       "      <td>Right</td>\n",
       "      <td>31</td>\n",
       "      <td>Medium / Medium</td>\n",
       "      <td>4</td>\n",
       "      <td>...</td>\n",
       "      <td>52</td>\n",
       "      <td>78</td>\n",
       "      <td>25</td>\n",
       "      <td>25</td>\n",
       "      <td>13</td>\n",
       "      <td>16</td>\n",
       "      <td>14</td>\n",
       "      <td>11</td>\n",
       "      <td>47</td>\n",
       "      <td>11</td>\n",
       "    </tr>\n",
       "  </tbody>\n",
       "</table>\n",
       "<p>5 rows × 39 columns</p>\n",
       "</div>"
      ],
      "text/plain": [
       "                Name Nationality National_Position Club_Position  Height  \\\n",
       "0  Cristiano Ronaldo    Portugal                LS            LW     185   \n",
       "1       Lionel Messi   Argentina                RW            RW     170   \n",
       "2             Neymar      Brazil                LW            LW     174   \n",
       "3        Luis Suárez     Uruguay                LS            ST     182   \n",
       "4       Manuel Neuer     Germany                GK            GK     193   \n",
       "\n",
       "   Weight Preffered_Foot  Age        Work_Rate  Weak_foot  ...  Agility  \\\n",
       "0      80          Right   32       High / Low          4  ...       90   \n",
       "1      72           Left   29  Medium / Medium          4  ...       90   \n",
       "2      68          Right   25    High / Medium          5  ...       96   \n",
       "3      85          Right   30    High / Medium          4  ...       86   \n",
       "4      92          Right   31  Medium / Medium          4  ...       52   \n",
       "\n",
       "   Jumping  Heading  Shot_Power  Finishing  Long_Shots  Curve  \\\n",
       "0       95       85          92         93          90     81   \n",
       "1       68       71          85         95          88     89   \n",
       "2       61       62          78         89          77     79   \n",
       "3       69       77          87         94          86     86   \n",
       "4       78       25          25         13          16     14   \n",
       "\n",
       "   Freekick_Accuracy  Penalties  Volleys  \n",
       "0                 76         85       88  \n",
       "1                 90         74       85  \n",
       "2                 84         81       83  \n",
       "3                 84         85       88  \n",
       "4                 11         47       11  \n",
       "\n",
       "[5 rows x 39 columns]"
      ]
     },
     "execution_count": 2,
     "metadata": {},
     "output_type": "execute_result"
    }
   ],
   "source": [
    "df_players = pd.read_csv('stats_players.csv')\n",
    "df_players.head()"
   ]
  },
  {
   "cell_type": "markdown",
   "metadata": {
    "cell_id": "00013-1b1d1556-4dbe-499e-8a34-90748e76565e",
    "deepnote_cell_type": "markdown",
    "id": "2R3b7Qe501t5"
   },
   "source": [
    "## 1.1 Predicción de Seleccionados Nacionales \n",
    "\n",
    "Como primera tarea, Renacín, intrigado por la posibilidad de saber qué tan reconocido es un jugador, le consulta a su equipo si es posible predecir si un jugador será o no seleccionado nacional a partir de sus estadísticas en el juego. \n",
    "\n",
    "<p align=\"center\">\n",
    "  <img src=\"https://thumbs.gfycat.com/ThornyFrankFoxhound-size_restricted.gif\" width=\"500\">\n",
    "</p>"
   ]
  },
  {
   "cell_type": "markdown",
   "metadata": {
    "cell_id": "00014-33fe54d0-08a3-457a-932d-d07eb29b7ee3",
    "deepnote_cell_type": "markdown",
    "id": "PIe_Ha58pQRC"
   },
   "source": [
    "### 1.1.1 Generación de Labels para la Clasificación [Sin Puntaje]\n",
    "\n",
    "\n",
    "Primero comience generando las labels para la clasificación. Para esto, trabaje sobre el atributo ```National_Position``` suponiendo que los valores nulos son jugadores no seleccionados para representar a su país. \n",
    "\n",
    "Hecho esto, ¿Cuantos ejemplos por cada clase se tienen? Comente lo que observa.\n",
    "\n"
   ]
  },
  {
   "cell_type": "markdown",
   "metadata": {
    "cell_id": "00015-f7029512-357f-4f07-9897-aaf5d65430a6",
    "deepnote_cell_type": "markdown",
    "tags": []
   },
   "source": [
    "**Respuesta:**"
   ]
  },
  {
   "cell_type": "code",
   "execution_count": 3,
   "metadata": {
    "cell_id": "00016-ea27a011-47ab-4d54-b2cf-f07037d65135",
    "deepnote_cell_type": "code",
    "deepnote_to_be_reexecuted": false,
    "execution_millis": 3,
    "execution_start": 1636741171250,
    "id": "uwKaIuho4lqn",
    "source_hash": "43ce1981"
   },
   "outputs": [
    {
     "data": {
      "text/plain": [
       "0    16513\n",
       "1     1075\n",
       "Name: SeleccionadoNacional, dtype: int64"
      ]
     },
     "execution_count": 3,
     "metadata": {},
     "output_type": "execute_result"
    }
   ],
   "source": [
    "### Código aquí ###\n",
    "df_players['SeleccionadoNacional'] =  df_players['National_Position'].apply(lambda x: 0 if pd.isna(x) else 1)\n",
    "df_players['SeleccionadoNacional'].value_counts()"
   ]
  },
  {
   "cell_type": "markdown",
   "metadata": {},
   "source": [
    "Se observa que existen muchos más jugadores que no son seleccionados nacionales. Esto tiene sentido ya que por cada país, existen muchos jugadores, pero sólo unos pocos son seleccionados para jugar por su selección."
   ]
  },
  {
   "cell_type": "markdown",
   "metadata": {
    "cell_id": "00019-645127af-999a-40ce-b7a1-aa62bb742b4a",
    "deepnote_cell_type": "markdown",
    "id": "0F70XPRFpWH9"
   },
   "source": [
    "### 1.1.2 Camino a la clasificación [1 punto]\n",
    "\n",
    "<p align=\"center\">\n",
    "  <img src=\"http://vignette3.wikia.nocookie.net/inciclopedia/images/c/cd/Patada_Medel_Messi.gif/revision/latest?cb=20150705215005\" width=\"500\">\n",
    "</p>\n",
    "\n",
    "Para preprocesar el dataset, genere un `ColumnTransformer` en donde especifique las transformaciones que hay que realizar para cada columna (por ejemplo StandarScaler, MinMaxScaler, OneHotEncoder, etc...) para que puedan ser utilizadas correctamente por el modelo predictivo y guardelo en algúna variable.\n",
    "\n",
    "Luego, comente y justifique las transformaciones elegidas sobre cada una de las variables (para esto utilice el material ```Player_Stats_Report.html``` que viene en el zip del lab), al igual que las transformaciones aplicadas.\n",
    "\n",
    "Hecho lo anterior, **defina al menos 3 pipelines para la clasificación**, en donde utilice el mismo ColumnTransformer definido anteriormente, pero que varie entre cada pipeline los clasificadores. \n",
    "\n",
    "Para seleccionar los clasificadores más adecuados, utilice la siguiente guía:\n",
    "\n",
    "<p align=\"center\">\n",
    "  <img src=\"https://scikit-learn.org/stable/_static/ml_map.png\" width=\"500\">\n",
    "</p>\n",
    "\n",
    "<br/>\n",
    "\n",
    "Con ella, comente y justifique cada una de las decisiones tomadas al momento de desarrollar su pipeline.\n",
    "\n",
    "**To-Do:**\n",
    "\n",
    "- [ ] Genere un ```ColumnTransformer``` enfocado en preprocesar los datos.\n",
    "- [ ] Indicar y Justificar que preprocesamiento utiliza sobre cada columna.\n",
    "- [ ] Crear 3 ``pipelines`` con diferentes clasificadores.\n",
    "- [ ] Para seleccionar los clasificadores base sus decisiones en la siguiente [guía](https://scikit-learn.org/stable/tutorial/machine_learning_map/index.html)\n",
    "- [ ] No entrenar los ``pipelines`` aún.\n",
    "\n",
    "**Nota:** No es necesario entrenar los clasificadores aún."
   ]
  },
  {
   "cell_type": "markdown",
   "metadata": {
    "cell_id": "00020-4620fe7d-8e00-4c8b-976f-4212347359e6",
    "deepnote_cell_type": "markdown",
    "tags": []
   },
   "source": [
    "**Respuesta:**"
   ]
  },
  {
   "cell_type": "code",
   "execution_count": 4,
   "metadata": {},
   "outputs": [],
   "source": [
    "#columnas categóricas a transformar\n",
    "columnasCategoricas = ['Nationality', 'Club_Position']\n",
    "#columnas numéricas a transformar\n",
    "columnasNumericas = ['Height', 'Weight', 'Age', 'Ball_Control',\n",
    "                  'Dribbling', 'Marking', 'Sliding_Tackle', 'Standing_Tackle',\n",
    "                  'Aggression', 'Reactions', 'Interceptions', 'Vision', 'Composure',\n",
    "                  'Crossing', 'Short_Pass', 'Long_Pass', 'Acceleration', 'Speed',\n",
    "                  'Stamina', 'Strength', 'Balance', 'Agility', 'Jumping', 'Heading',\n",
    "                  'Shot_Power', 'Finishing', 'Long_Shots', 'Curve', 'Freekick_Accuracy',\n",
    "                  'Penalties', 'Volleys', 'WorkRate_Ataque', 'WorkRate_Defensa']\n",
    "#esta función se crea para realizar un preprocesamiento previo antes de transformar las variables\n",
    "def preprocesar(data):\n",
    "    df = data.copy()\n",
    "    #Eliminar columnas que no se utilizarán para la predicción. \n",
    "    df.drop(columns = ['Name', 'National_Position'], inplace = True, errors = 'ignore')\n",
    "    #Se imputan los valores nulos para la varible Club_Position\n",
    "    if df.columns.isin(['Club_Position']).sum() != 0:\n",
    "        df['Club_Position'] = df['Club_Position'].fillna(value = 'SinClub')\n",
    "    #Se codifica el pie del jugador como una variable binaria\n",
    "    df['Preffered_Foot'] = df['Preffered_Foot'].map({'Right': 0, 'Left': 1})\n",
    "    #Se separa el atributo Work_Rate en dos, ya que contiene información sobre la actitud de\n",
    "    #ataque y de defensa del jugador.\n",
    "    wr = df['Work_Rate'].str.split(pat = ' / ', expand = True)\\\n",
    "         .rename(columns = {0: 'WorkRate_Ataque', 1: 'WorkRate_Defensa'})\n",
    "    #Se mapean los valores de los Work_Rates de manera ordinal (no lo realizo en el column transformer ya que \n",
    "    #los valores de una transformación no se pasan a la siguiente)\n",
    "    wr['WorkRate_Ataque'] = wr['WorkRate_Ataque'].map({'Low': 0, 'Medium': 1, 'High': 2})\n",
    "    wr['WorkRate_Defensa'] = wr['WorkRate_Defensa'].map({'Low': 0, 'Medium': 1, 'High': 2})\n",
    "    \n",
    "    #Se retorna el dataframe preprocesado\n",
    "    return pd.concat([df.drop(columns = ['Work_Rate']), wr], axis = 1)\n",
    "\n",
    "#column transformer que aplica transformaciones a las variables categóricas y numéricas.\n",
    "transformacionColumnas = ColumnTransformer(transformers = \n",
    "                       [\n",
    "                           ('OneHot', OneHotEncoder(sparse= False,handle_unknown ='ignore',), columnasCategoricas),\n",
    "                           ('MinMax', MinMaxScaler(), columnasNumericas),\n",
    "                       ],\n",
    "                       remainder = 'passthrough',\n",
    "                       verbose_feature_names_out=False)\n",
    "\n",
    "\n",
    "#Pipe con support vector machine\n",
    "pipeLinearSVC = Pipeline([\n",
    "    ('Procesamiento', FunctionTransformer(preprocesar)),\n",
    "    ('Transformacion', transformacionColumnas),\n",
    "    ('Clasificador', LinearSVC(random_state = 100))\n",
    "])\n",
    "\n",
    "#Pipe con KNN\n",
    "pipeKNN = Pipeline([\n",
    "    ('Procesamiento', FunctionTransformer(preprocesar)),\n",
    "    ('Transformacion', transformacionColumnas),\n",
    "    ('Clasificador', KNeighborsClassifier())\n",
    "])\n",
    "\n",
    "#Pipe con clasificador naive bayes gaussiano\n",
    "pipeRFC = Pipeline([\n",
    "    ('Procesamiento', FunctionTransformer(preprocesar)),\n",
    "    ('Transformacion', transformacionColumnas),\n",
    "    ('Clasificador', RandomForestClassifier(random_state = 100))\n",
    "])"
   ]
  },
  {
   "cell_type": "markdown",
   "metadata": {},
   "source": [
    "A continuación se justifican las distintas transformaciones realizadas a los distintos atributos:\n",
    "1) Se decide eliminar la columna Nombre debido a que no entrega mucha información y no se utilizará para predecir. También se decide eliminar National_Position, ya que permite identificar claramente qué jugador es seleccionado nacional o no.\n",
    "\n",
    "2) Las columnas a las cuales se le aplica la transformación de onehotencoder son aquellas de tipo categoría, y que no tienen un orden en intrínsico.\n",
    "\n",
    "3) La columna Preffered_Foot se decide cambiar por una columna binaria, debido a que posee sólo dos posibles valores.\n",
    "\n",
    "4) La columna Work_Rate se decide separar en dos, debido a que contiene información sobre el desempeño en ataque y en defensa del jugador.\n",
    "\n",
    "5) Las variables resultantes de la separación de Work_Rate son de tipo ordinal, por lo que se las cambiará por variables numéricas y se preservará ese orden.\n",
    "\n",
    "6) A todas las columnas que son numéricas, inclusive las resultantes de la transformación ordinal, se les aplicará una transformación Min-Max para que queden en el mismo rango de valores. Esta decisión proviene luego de haber observado la distribución de éstas, en las cuales no se aprecian outliers y así todas éstas estarán en la misma escala.\n",
    "\n",
    "7) Por último, la elección de los clasificadores se basó en la guía de sklearn. Primero se eligió el clasificador LinearSVC ya que es el primero recomendado para clasificación con menos de 100 mil registros, luego se entrenará un KNN que es el siguiente recomendado cuando los datos no son de texto, y por último se ajustará un Random Forest que es un tipo de clasificador de ensamble, recomendado cuando el KNN no tiene buenos resultados"
   ]
  },
  {
   "cell_type": "markdown",
   "metadata": {
    "cell_id": "00022-c2604b33-63e0-4f34-88cf-019afa3b2225",
    "deepnote_cell_type": "markdown",
    "id": "MpKq6oO3vCNL"
   },
   "source": [
    "### 1.1.3 Entrenemos los pipelines [1 punto]\n",
    "\n",
    "<p align=\"center\">\n",
    "  <img src=\"https://i.gifer.com/7Cc8.gif\" width=\"350\">\n",
    "</p>\n"
   ]
  },
  {
   "cell_type": "markdown",
   "metadata": {
    "cell_id": "00023-664600ec-8c7d-4e9a-8673-edd18d5145a3",
    "deepnote_cell_type": "markdown",
    "id": "wE_1aZaIvOeN"
   },
   "source": [
    "Ahora, entrene los `pipeline` generados en los pasos anteriores. Para esto, primero separe los datos de entrenamiento en un conjunto de entrenamiento y de prueba  (la proporción queda a su juicio).\n",
    "\n",
    "En este paso, seleccione los ejemplos de forma aleatoria e intente mantener la distribución original de labels de cada clase en los conjuntos de prueba/entrenamiento. (vea la documentación de `train_test_split`).\n",
    "\n",
    "\n",
    "Luego, entrene los pipelines\n",
    "\n",
    "Una vez entrenado su modelo, evalue su rendimiento a través de diferentes métricas, comentando que significa cada uno de los valores obtenidos. Puede usar la función `classification_report` para corroborar sus resultados.\n",
    "\n",
    "- ¿Qué implican los valores de accuracy, precisión y recall de la clase positiva (la que indica que un jugador es seleccionado nacional)?\n",
    "- ¿Podrían mejorarse los resultados?, ¿Cómo?\n",
    "- ¿Influye la cantidad de ejemplos por clase?\n",
    "\n",
    "**To-Do**:\n",
    "\n",
    "- [ ] Separar el conjunto de datos en entrenamiento y de prueba.\n",
    "- [ ] Entrenar los `pipelines`.\n",
    "- [ ] Utilizar las métricas para evaluar los modelos generados.\n"
   ]
  },
  {
   "cell_type": "markdown",
   "metadata": {
    "cell_id": "00024-b842d4aa-fb47-4513-8649-e942f6094140",
    "deepnote_cell_type": "markdown",
    "tags": []
   },
   "source": [
    "**Respuesta:**"
   ]
  },
  {
   "cell_type": "code",
   "execution_count": 7,
   "metadata": {
    "cell_id": "00023-f6cdd4bf-3786-444f-a249-62e47133e558",
    "deepnote_cell_type": "code",
    "tags": []
   },
   "outputs": [],
   "source": [
    "#Separación de conjunto de entrenamiento y testeo.\n",
    "features = df_players.drop(columns = ['SeleccionadoNacional'])\n",
    "labels = df_players['SeleccionadoNacional']\n",
    "X_train, X_test, y_train, y_test = train_test_split(\n",
    "    features, labels, test_size=0.33, shuffle=True, stratify=labels, random_state = 100\n",
    ")\n",
    "\n",
    "#función que permite entrenar y mostrar el desempeño del modelo\n",
    "def train_and_evaluate(pipe,\n",
    "                       X_train,\n",
    "                       y_train,\n",
    "                       X_test,\n",
    "                       y_test,\n",
    "                       tipo,\n",
    "                       print_=True):\n",
    "\n",
    "    # notar que los datasets son parámetros por defecto.\n",
    "    \n",
    "    pipe.fit(X_train, y_train)\n",
    "    y_pred = pipe.predict(X_test)\n",
    "\n",
    "    if print_:\n",
    "        if tipo in ['clas_binaria', 'clas_multiclase']:\n",
    "            if tipo == 'clas_binaria':\n",
    "                print('Matriz de confusión: \\n')\n",
    "                print(confusion_matrix(y_test, y_pred))\n",
    "                print('\\nReporte de Clasificación: \\n')\n",
    "                print(classification_report(y_test, y_pred))\n",
    "            else:\n",
    "                print('Matriz de confusión: \\n')\n",
    "                print(confusion_matrix(y_test, y_pred, labels=pipe.classes_))\n",
    "                print('\\nReporte de Clasificación: \\n')\n",
    "                print(classification_report(y_test, y_pred, labels=pipe.classes_))\n",
    "        else:\n",
    "            print('R2: \\n')\n",
    "            print(r2_score(y_test, y_pred))\n",
    "    \n",
    "    return "
   ]
  },
  {
   "cell_type": "code",
   "execution_count": 9,
   "metadata": {},
   "outputs": [
    {
     "name": "stdout",
     "output_type": "stream",
     "text": [
      "Matriz de confusión: \n",
      "\n",
      "[[5383   67]\n",
      " [ 216  139]]\n",
      "\n",
      "Reporte de Clasificación: \n",
      "\n",
      "              precision    recall  f1-score   support\n",
      "\n",
      "           0       0.96      0.99      0.97      5450\n",
      "           1       0.67      0.39      0.50       355\n",
      "\n",
      "    accuracy                           0.95      5805\n",
      "   macro avg       0.82      0.69      0.73      5805\n",
      "weighted avg       0.94      0.95      0.95      5805\n",
      "\n"
     ]
    },
    {
     "name": "stderr",
     "output_type": "stream",
     "text": [
      "D:\\anaconda3\\envs\\MDS7202\\lib\\site-packages\\sklearn\\svm\\_base.py:1199: ConvergenceWarning: Liblinear failed to converge, increase the number of iterations.\n",
      "  warnings.warn(\n"
     ]
    }
   ],
   "source": [
    "#Entrenamiento con el árbol de decisión\n",
    "train_and_evaluate(pipeLinearSVC,\n",
    "                   X_train,\n",
    "                   y_train,\n",
    "                   X_test,\n",
    "                   y_test, \n",
    "                   tipo = 'clas_binaria')"
   ]
  },
  {
   "cell_type": "code",
   "execution_count": 10,
   "metadata": {},
   "outputs": [
    {
     "name": "stdout",
     "output_type": "stream",
     "text": [
      "Matriz de confusión: \n",
      "\n",
      "[[5423   27]\n",
      " [ 311   44]]\n",
      "\n",
      "Reporte de Clasificación: \n",
      "\n",
      "              precision    recall  f1-score   support\n",
      "\n",
      "           0       0.95      1.00      0.97      5450\n",
      "           1       0.62      0.12      0.21       355\n",
      "\n",
      "    accuracy                           0.94      5805\n",
      "   macro avg       0.78      0.56      0.59      5805\n",
      "weighted avg       0.93      0.94      0.92      5805\n",
      "\n"
     ]
    }
   ],
   "source": [
    "#Entrenamiento con el support vector machine\n",
    "train_and_evaluate(pipeKNN,\n",
    "                   X_train,\n",
    "                   y_train,\n",
    "                   X_test,\n",
    "                   y_test, \n",
    "                   tipo = 'clas_binaria')"
   ]
  },
  {
   "cell_type": "code",
   "execution_count": 11,
   "metadata": {},
   "outputs": [
    {
     "name": "stdout",
     "output_type": "stream",
     "text": [
      "Matriz de confusión: \n",
      "\n",
      "[[5433   17]\n",
      " [ 315   40]]\n",
      "\n",
      "Reporte de Clasificación: \n",
      "\n",
      "              precision    recall  f1-score   support\n",
      "\n",
      "           0       0.95      1.00      0.97      5450\n",
      "           1       0.70      0.11      0.19       355\n",
      "\n",
      "    accuracy                           0.94      5805\n",
      "   macro avg       0.82      0.55      0.58      5805\n",
      "weighted avg       0.93      0.94      0.92      5805\n",
      "\n"
     ]
    }
   ],
   "source": [
    "#Entrenamiento con Naive Bayes gaussiano\n",
    "train_and_evaluate(pipeRFC,\n",
    "                   X_train,\n",
    "                   y_train,\n",
    "                   X_test,\n",
    "                   y_test, \n",
    "                   tipo = 'clas_binaria')"
   ]
  },
  {
   "cell_type": "markdown",
   "metadata": {
    "cell_id": "00028-42eb3af5-2635-48e6-9049-736e2d4b3306",
    "deepnote_cell_type": "markdown",
    "id": "QgSeo0aIx9ow"
   },
   "source": [
    "**Respuesta**:\n",
    "Al observar los resultados para cada modelo, especialmente el F1, podemos notar que en general no les va muy bien identificando la clase positiva, es decir que un jugador sea seleccionado nacional, pero sí todos tienen muy buen desempeño al momento de clasificar la clase negativa. El que tiene mejores resultados con la clase positiva es la support vector machine lineal, que obtiene un F1 de 0.5, los dos otros modelos poseen aproximadamente 0.2 para esta métrica. Si miramos ahora la precisión de la clase positiva, podemos observar que todos los modelos obtienen un valor entre 0.6 y 0.7, sin embargo donde se caen es en el recall, en donde el mejor resultado lo tiene la SVMLineal con un valor de 0.39, lo que indica que ningún modelo es capaz de identificar de buena manera a todos los seleccionados nacionales. \n",
    "\n",
    "Estos resultados podrían mejorarse si realizaramos algo de ingeniería de características y aumentemos la cantidad de datos que tengamos. \n",
    "\n",
    "La cantidad de ejemplos por clase también influye en los resultados ya que al tener un desbalance de clases, el clasificador tenderá a predecir la clase mayoritaria ya que eso mejorará su desempeño global y, por otro lado, tendrá menos ejemplos de la clase minoritaria que le dificultará el aprendizaje sobre ésta. Si realmente sólo nos interesa la clase positiva, se podría establecer una matriz de costos que penalice los errores cometidos en esta clase, y así se elija un modelo que minimice el costo, y no sólo máxime el desempeño respecto a alguna métrica en particular."
   ]
  },
  {
   "cell_type": "markdown",
   "metadata": {
    "cell_id": "00029-25d6c3d3-9c25-49f0-a27b-beface2dd794",
    "deepnote_cell_type": "markdown",
    "id": "ix97Ho4uOARH"
   },
   "source": [
    "## 1.2 Predicción de posiciones de jugadores [2 puntos]\n",
    "\n",
    "<p align=\"center\">\n",
    "  <img src=\"https://pbs.twimg.com/media/E1rfA1aWEAYU6Ny.jpg\" width=\"500\">\n",
    "</p>"
   ]
  },
  {
   "cell_type": "markdown",
   "metadata": {
    "cell_id": "00030-38a30ede-8d53-4a7c-930b-bfeaa4d499ff",
    "deepnote_cell_type": "markdown",
    "id": "oHAwZfV8hMsk"
   },
   "source": [
    "En una nueva jornada de desmesuradas transacciones deportivas, Renacín escuchó a sus colegas discutir acerca de que el precio de cada jugador depende en gran medida de la posición en la cancha en la que juega. Y además, que hay bastantes jugadores nuevos que no tienen muy claro en que posición verdaderamente brillarían, por lo que actualmente puede que actualmente estén jugando en posiciones sub-optimas. \n",
    "\n",
    "Viendo que los resultados del primer análisis no son tan esperanzadores, el corporeo los comanda a cambiar su tarea: ahora, les solicita que construyan un clasificador enfocado en predecir la mejor posición de los jugadores en la cancha según sus características. \n",
    "\n",
    "Para lograr esto, primero, les pide que etiqueten de la siguiente manera los valores que aparecen en el atributo ```Club_Position```, pidiendo que agrupen los valores en los siguientes grupos:\n",
    "\n",
    "**Nota**:  Renacín les recalca que **no deben utilizar los valores ```Sub``` y ```Res``` de esta columna**.\n",
    "\n",
    "```python\n",
    "ataque = ['ST', 'CF'] \n",
    "central_ataque = ['RW', 'CAM', 'LW'] \n",
    "central = ['RM', 'CM', 'LM'] \n",
    "central_defensa = ['RWB', 'CDM', 'LWB']\n",
    "defensa = ['RB', 'CB', 'LB']\n",
    "arquero = ['GK']\n",
    "```\n",
    "\n",
    "Cabe señalar que al igual como lo realizado con la clasificación binaria, deberá justificar en base a la [guía](https://scikit-learn.org/stable/tutorial/machine_learning_map/index.html) la elección del clasificador y se deben comentar los resultados obtenidos en la clasificación.\n",
    "\n",
    "**To-Do**:\n",
    "\n",
    "- [ ] Aplique las etiquetas descritas anteriormente en cada uno de los valores señalados en esta sección.\n",
    "- [ ] Cuente cuantos por clase quedan.\n",
    "- [ ] Entrene el nuevo pipeline y ejecute una evaluación de este.  \n",
    "- [ ] Comente los resultados obtenidos."
   ]
  },
  {
   "cell_type": "markdown",
   "metadata": {
    "cell_id": "00031-e53db99a-2bcc-474a-92b1-1f55458afc1d",
    "deepnote_cell_type": "markdown",
    "tags": []
   },
   "source": [
    "**Respuesta:**"
   ]
  },
  {
   "cell_type": "code",
   "execution_count": 12,
   "metadata": {
    "cell_id": "00028-f8dd9230-e314-42be-a0f8-2c295dd45e54",
    "deepnote_cell_type": "code",
    "tags": []
   },
   "outputs": [],
   "source": [
    "#Mapeo de valores establecidos en el enunciado\n",
    "dictClubPosition = {'ST':'ataque',\n",
    "                    'CF':'ataque',\n",
    "                    'RW':'central_ataque',\n",
    "                    'CAM':'central_ataque',\n",
    "                    'LW':'central_ataque',\n",
    "                    'RM':'central',\n",
    "                    'CM':'central',\n",
    "                    'LM':'central',\n",
    "                    'RWB':'central_defensa',\n",
    "                    'CDM':'central_defensa',\n",
    "                    'LWB':'central_defensa',\n",
    "                    'RB':'defensa',\n",
    "                    'CB':'defensa',\n",
    "                    'LB':'defensa',\n",
    "                    'GK':'arquero'}\n",
    "#Se eliminan las columnas National_Position y SeleccionadoNacional debido a que así fue indicado por el profesor. \n",
    "#La razón es porque entrega demasiada información sobre la variable predictora.\n",
    "df_players2 = df_players.drop(columns = ['National_Position', 'SeleccionadoNacional'])\n",
    "#Se mapean los valores de la variable a predecir\n",
    "df_players2['Club_Position'] = df_players['Club_Position'].map(dictClubPosition)\n",
    "#Se eliminan los valores nulos luego de hacer el mapeo, ya que existen muchas posiciones que no fueron mapeadas.\n",
    "df_players2.dropna(inplace = True)\n",
    "#Casos por clase\n",
    "df_players2['Club_Position'].value_counts()"
   ]
  },
  {
   "cell_type": "markdown",
   "metadata": {},
   "source": [
    "Se puede observar que luego de hacer el mapeo de la variable `Club_Position`, las 3 posiciones que más jugadores poseen son la de defensa, central y arquero. En cambio, las posiciones central ataque, ataque y central defensa son las que menos se repiten en el dataset. Notar que existen casi 6 veces más defensas que central defensas. Este desbalance de clases podría generar que el modelo no se comporte bien con las clases minoritarias."
   ]
  },
  {
   "cell_type": "code",
   "execution_count": 14,
   "metadata": {
    "cell_id": "00019-8d766ed7-eaaa-4ca3-985b-330dc69e0345",
    "deepnote_cell_type": "code",
    "tags": []
   },
   "outputs": [],
   "source": [
    "#Se Crea una nueva lista de columnas categóricas para este ejercicio,\n",
    "#ya que ahora no se utilizará la variable Club_Position\n",
    "columnasCategoricas2 = ['Nationality']\n",
    "#Nueva transformación de columnas\n",
    "transformacionColumnas2 = ColumnTransformer(transformers = \n",
    "                       [\n",
    "                           ('OneHot', OneHotEncoder(sparse= False,handle_unknown ='ignore',), columnasCategoricas2),\n",
    "                           ('MinMax', MinMaxScaler(), columnasNumericas),\n",
    "                       ],\n",
    "                       remainder = 'passthrough',\n",
    "                       verbose_feature_names_out=False\n",
    "                                          )\n",
    "\n",
    "\n",
    "#Pipe con support vector machine lineal\n",
    "pipeLinearSVC2 = Pipeline([\n",
    "    ('Procesamiento', FunctionTransformer(preprocesar)),\n",
    "    ('Transformacion', transformacionColumnas2),\n",
    "    ('Clasificador', LinearSVC(random_state = 100))\n",
    "])\n",
    "\n",
    "#Pipe con KNN\n",
    "pipeKNN2 = Pipeline([\n",
    "    ('Procesamiento', FunctionTransformer(preprocesar)),\n",
    "    ('Transformacion', transformacionColumnas2),\n",
    "    ('Clasificador', KNeighborsClassifier())\n",
    "])\n",
    "\n",
    "#Pipe con clasificador de ensamble random forest\n",
    "pipeRFC2 = Pipeline([\n",
    "    ('Procesamiento', FunctionTransformer(preprocesar)),\n",
    "    ('Transformacion', transformacionColumnas2),\n",
    "    ('Clasificador', RandomForestClassifier(random_state = 100))\n",
    "])\n",
    "\n",
    "#Separación de conjunto de datos\n",
    "features2 = df_players2.drop(columns = ['Club_Position'])\n",
    "labels2 = df_players2['Club_Position']\n",
    "X_train2, X_test2, y_train2, y_test2 = train_test_split(\n",
    "    features2, labels2, test_size=0.33, shuffle=True, stratify=labels2, random_state = 100\n",
    ")"
   ]
  },
  {
   "cell_type": "code",
   "execution_count": 15,
   "metadata": {},
   "outputs": [
    {
     "name": "stdout",
     "output_type": "stream",
     "text": [
      "Matriz de confusión: \n",
      "\n",
      "[[209   0   0   0   0   0]\n",
      " [  0 116  15   9   0   2]\n",
      " [  0  15 202  35   5  42]\n",
      " [  0  16 112  51   4   9]\n",
      " [  0   0   6   2  14  47]\n",
      " [  0   0  12   3   3 371]]\n",
      "\n",
      "Reporte de Clasificación: \n",
      "\n",
      "                 precision    recall  f1-score   support\n",
      "\n",
      "        arquero       1.00      1.00      1.00       209\n",
      "         ataque       0.79      0.82      0.80       142\n",
      "        central       0.58      0.68      0.63       299\n",
      " central_ataque       0.51      0.27      0.35       192\n",
      "central_defensa       0.54      0.20      0.29        69\n",
      "        defensa       0.79      0.95      0.86       389\n",
      "\n",
      "       accuracy                           0.74      1300\n",
      "      macro avg       0.70      0.65      0.66      1300\n",
      "   weighted avg       0.72      0.74      0.72      1300\n",
      "\n"
     ]
    },
    {
     "name": "stderr",
     "output_type": "stream",
     "text": [
      "D:\\anaconda3\\envs\\MDS7202\\lib\\site-packages\\sklearn\\svm\\_base.py:1199: ConvergenceWarning: Liblinear failed to converge, increase the number of iterations.\n",
      "  warnings.warn(\n"
     ]
    }
   ],
   "source": [
    "#Entrenamiento y evaluación del modelo SVC lineal\n",
    "train_and_evaluate(pipeLinearSVC2,\n",
    "                    X_train2,\n",
    "                    y_train2,\n",
    "                    X_test2,\n",
    "                    y_test2,\n",
    "                    'clas_multiclase')"
   ]
  },
  {
   "cell_type": "code",
   "execution_count": 16,
   "metadata": {},
   "outputs": [
    {
     "name": "stdout",
     "output_type": "stream",
     "text": [
      "Matriz de confusión: \n",
      "\n",
      "[[209   0   0   0   0   0]\n",
      " [  0  88  42   8   0   4]\n",
      " [  0  42 148  49   5  55]\n",
      " [  0  29  94  48   2  19]\n",
      " [  0   2  14   1   6  46]\n",
      " [  0   2  44   4   8 331]]\n",
      "\n",
      "Reporte de Clasificación: \n",
      "\n",
      "                 precision    recall  f1-score   support\n",
      "\n",
      "        arquero       1.00      1.00      1.00       209\n",
      "         ataque       0.54      0.62      0.58       142\n",
      "        central       0.43      0.49      0.46       299\n",
      " central_ataque       0.44      0.25      0.32       192\n",
      "central_defensa       0.29      0.09      0.13        69\n",
      "        defensa       0.73      0.85      0.78       389\n",
      "\n",
      "       accuracy                           0.64      1300\n",
      "      macro avg       0.57      0.55      0.55      1300\n",
      "   weighted avg       0.62      0.64      0.62      1300\n",
      "\n"
     ]
    }
   ],
   "source": [
    "#Entrenamiento y evaluación del modelo KNN\n",
    "train_and_evaluate(pipeKNN2,\n",
    "                    X_train2,\n",
    "                    y_train2,\n",
    "                    X_test2,\n",
    "                    y_test2,\n",
    "                    'clas_multiclase')"
   ]
  },
  {
   "cell_type": "code",
   "execution_count": 17,
   "metadata": {},
   "outputs": [
    {
     "name": "stdout",
     "output_type": "stream",
     "text": [
      "Matriz de confusión: \n",
      "\n",
      "[[209   0   0   0   0   0]\n",
      " [  0 115  24   2   0   1]\n",
      " [  0  10 215  34   5  35]\n",
      " [  0  12 123  49   1   7]\n",
      " [  0   0   4   1   6  58]\n",
      " [  0   0  11   1   5 372]]\n",
      "\n",
      "Reporte de Clasificación: \n",
      "\n",
      "                 precision    recall  f1-score   support\n",
      "\n",
      "        arquero       1.00      1.00      1.00       209\n",
      "         ataque       0.84      0.81      0.82       142\n",
      "        central       0.57      0.72      0.64       299\n",
      " central_ataque       0.56      0.26      0.35       192\n",
      "central_defensa       0.35      0.09      0.14        69\n",
      "        defensa       0.79      0.96      0.86       389\n",
      "\n",
      "       accuracy                           0.74      1300\n",
      "      macro avg       0.69      0.64      0.64      1300\n",
      "   weighted avg       0.72      0.74      0.71      1300\n",
      "\n"
     ]
    }
   ],
   "source": [
    "#Entrenamiento y evaluación del random forest\n",
    "train_and_evaluate(pipeRFC2,\n",
    "                    X_train2,\n",
    "                    y_train2,\n",
    "                    X_test2,\n",
    "                    y_test2,\n",
    "                    'clas_multiclase')"
   ]
  },
  {
   "cell_type": "markdown",
   "metadata": {
    "cell_id": "00037-49e50b09-156f-4996-8fec-1e3e6cf51802",
    "deepnote_cell_type": "markdown",
    "tags": []
   },
   "source": [
    "**Respuesta**:\n",
    "Se descatan varios aspectos de los resultados obtenidos. Primero 1) notar que las clases que obtuvieron peores desempeños en todos lo modelos fueron la clase `central_ataque` y `central_defensa`. Destacar que estas clases están entre las 3 clases que tienen menor cantidad de ejemplos y que ambas son mezclas de otras clases, que son `central`, `defensa` y `ataque`, es aspecto podría indicar que los jugadores de estas clases mezcladas tienen características muy similares a los jugadores de sus clases \"raíces\", lo que haría que el modelo se confunda al momento de hacer la predicción. Lo segundo 2) notar que el ranking de desempeño de los modelos mantuvo el orden que se obtuvo en el primer ejercicio de clasificación binaria, siendo la SVCLinear la que mejor se comportó, seguida por el Random Forest y por último el KNN. Por otro lado, 3) es importante notar que a pesar de que la clase de `ataque` tenía menos ejemplos, en todos los modelos obtuvo mejores resultados que la clase `central_ataque`, lo que deja entrever que no hay una relación directa entre la cantidad de ejemplos y el desempeño del modelo. Un ejemplo más claro es el de la clase `arquero` el cual tiene practicamente la mitad de ejemplos que la clase mayoritaria, y los modelos son capaces de reconocerla sin problemas, teniendo un 1 en todas sus métricas, a diferencia de la clase `defensa` la cual a pesar de ser la clase con segundo mejor desempeño, no supera un F1 de 0.86."
   ]
  },
  {
   "cell_type": "markdown",
   "metadata": {
    "cell_id": "00038-b8c6c19d-0688-4899-9abb-c89f94c2b89a",
    "deepnote_cell_type": "markdown",
    "id": "C-vkB4xoOGtM"
   },
   "source": [
    "## 1.3 Predicción de Sueldos [2 puntos]\n",
    "\n",
    "<p align=\"center\">\n",
    "  <img src=\"https://media.giphy.com/media/3oEjHWtHAFcOKS4iA0/giphy.gif\" width=\"460\">\n",
    "</p>"
   ]
  },
  {
   "cell_type": "markdown",
   "metadata": {
    "cell_id": "00039-e50ff971-8882-46be-832a-deaff22bdf89",
    "deepnote_cell_type": "markdown",
    "tags": []
   },
   "source": [
    "Queriendo ahondar aún más en el mercado del balompíe, Renacin, logra obtener (de una manera no muy formal) los sueldos de múltiples futbolistas y los guarda en el archivo ```sueldos.csv```. Con ellos les solicita que generen un regresor que les permita predecir el sueldo de los futbolistas en base a las características de los pichichis, esto, debido a su motivación por invertir y/o realizar especulación sobre los sueldos de jugadores.\n",
    "\n",
    "Renacin es claro señalando que deben seguir utilizando la [guía](https://scikit-learn.org/stable/tutorial/machine_learning_map/index.html) y comenten cada uno de los pasos realizados, para obtener su regresión lineal. Señalándoles que no aceptara un $R^2$ inferior a 0.35 para el modelo solicitado.\n",
    "\n",
    "Para esta parte usted tiene total libertad en la generación del regresor, la unica exigencia es que utilice un pipeline para generar la regresión y utilice la metrica $R^2$ para medir el rendimiento de esta.\n",
    "\n",
    "**To-Do**:\n",
    "\n",
    "- [ ] Explique en que consiste la métrica $R^2$\n",
    "- [ ] Generar un pipeline para la regresión.\n",
    "- [ ] Obtener un regresor con un $R^2$ superior a  $0.35$.\n",
    "- [ ] Comente sus resultados y si es posible mejorar los resultados obtenidos. ¿Se necesitarían más datos o otros tipos de características o una combinación de ambos?"
   ]
  },
  {
   "cell_type": "markdown",
   "metadata": {
    "cell_id": "00040-487b67d5-7731-400d-8fa5-a8fb3b59c7f5",
    "deepnote_cell_type": "markdown",
    "tags": []
   },
   "source": [
    "**Respuesta**"
   ]
  },
  {
   "cell_type": "markdown",
   "metadata": {},
   "source": [
    "La métrica $R^2$ es un indicador de qué tanta variabilidad de los datos es capaz de explicar el modelo propuesto. Su fórmula es $R^2 = 1 - \\frac{SSE}{SST}$ en donde $SSE$ es la suma del error cuadrático, en donde el error es la desviación de la predicción del modelo respecto al valor real de la observación, y el $SST$ es lo mismo que el $SSE$ pero ahora asumiendo que mi predicción sea el promedio. Entonces básicamente este indicador mide qué tan bien lo hace nuestro modelo respecto a la si nuestra predicción sea simplemente el promedio. Si mi modelo no lo hace mucho mejor, entonces el $R2$ será bajo, y si lo hace mucho mejor, es decir su $SSE$ es bajo, entonces tendrá un $R2 alto."
   ]
  },
  {
   "cell_type": "code",
   "execution_count": 18,
   "metadata": {
    "cell_id": "00041-012da19b-8f64-4971-84d6-e95502b74afb",
    "deepnote_cell_type": "code",
    "tags": []
   },
   "outputs": [],
   "source": [
    "#cargar datos\n",
    "sueldos = pd.read_csv('salarios.csv')\n",
    "#eliminar primera columna sin información\n",
    "sueldos.drop(columns = ['Unnamed: 0'], inplace = True)\n",
    "#unión datos de sueldos con las características de los jugadores. \n",
    "consolidado = pd.merge(left = sueldos,\n",
    "                       right = df_players.drop(columns = ['SeleccionadoNacional']), \n",
    "                       how = 'inner', left_on = 'Player', right_on = 'Name')\n",
    "#Eliminar la columna \"player\" ya que contiene la misma información que \"name\"\n",
    "consolidado.drop(columns = ['Player'], inplace = True)\n",
    "#separación de conjunto en train y test\n",
    "features3 = consolidado.drop(columns = ['Weekly Salary'])\n",
    "labels3 = consolidado['Weekly Salary']\n",
    "X_train3, X_test3, y_train3, y_test3 = train_test_split(\n",
    "    features3, labels3, test_size=0.33, shuffle=True, random_state = 100\n",
    ")\n",
    "#pipeline para la regresión ridge\n",
    "pipeRidge = Pipeline([\n",
    "    ('Procesamiento', FunctionTransformer(preprocesar)),\n",
    "    ('Transformacion', transformacionColumnas),\n",
    "    ('Clasificador', Ridge(random_state = 100))\n",
    "])\n",
    "#pipeline para la support vector machine regressor\n",
    "pipeSVR = Pipeline([\n",
    "    ('Procesamiento', FunctionTransformer(preprocesar)),\n",
    "    ('Transformacion', transformacionColumnas),\n",
    "    ('Clasificador', SVR(kernel = 'rbf'))\n",
    "])\n",
    "#pipeline para el random forest regressor\n",
    "pipeRFR = Pipeline([\n",
    "    ('Procesamiento', FunctionTransformer(preprocesar)),\n",
    "    ('Transformacion', transformacionColumnas),\n",
    "    ('Clasificador', RandomForestRegressor(random_state = 100))\n",
    "])"
   ]
  },
  {
   "cell_type": "code",
   "execution_count": 19,
   "metadata": {},
   "outputs": [
    {
     "name": "stdout",
     "output_type": "stream",
     "text": [
      "R2: \n",
      "\n",
      "0.21303206582782908\n"
     ]
    }
   ],
   "source": [
    "train_and_evaluate(pipeRidge,\n",
    "                    X_train3,\n",
    "                    y_train3,\n",
    "                    X_test3,\n",
    "                    y_test3,\n",
    "                    'regresion')"
   ]
  },
  {
   "cell_type": "code",
   "execution_count": 20,
   "metadata": {},
   "outputs": [
    {
     "name": "stdout",
     "output_type": "stream",
     "text": [
      "R2: \n",
      "\n",
      "-0.15888492748840077\n"
     ]
    }
   ],
   "source": [
    "train_and_evaluate(pipeSVR,\n",
    "                    X_train3,\n",
    "                    y_train3,\n",
    "                    X_test3,\n",
    "                    y_test3,\n",
    "                    'regresion')"
   ]
  },
  {
   "cell_type": "code",
   "execution_count": 21,
   "metadata": {},
   "outputs": [
    {
     "name": "stdout",
     "output_type": "stream",
     "text": [
      "R2: \n",
      "\n",
      "0.4731212830863586\n"
     ]
    }
   ],
   "source": [
    "train_and_evaluate(pipeRFR,\n",
    "                    X_train3,\n",
    "                    y_train3,\n",
    "                    X_test3,\n",
    "                    y_test3,\n",
    "                    'regresion')"
   ]
  },
  {
   "cell_type": "markdown",
   "metadata": {
    "cell_id": "00044-db7abb06-7339-40b0-9021-01c6111e5459",
    "deepnote_cell_type": "markdown",
    "tags": []
   },
   "source": [
    "**Respuesta**:\n",
    "Los resultados muestran que el modelo de random forest es el que mejor desempeño obtuvo en esta labor predecir el salario del jugador, con un $R2$ de 0.47, que indica que sólo el 47% de la variabilidad inherente a los datos es capaz de explicarla el modelo. Otro aspecto relevante a considerar es que el modelo de la SVR obtuvo un $R2$ negativo, indicando que si se utilizara el promedio de todos los salarios para predecir el salario de un jugador tendríamos mejores resultados que si usamos el modelo. Para el caso de la regresión de Rigde, si bien sus resultados no fueron buenos, por lo menos algo de la varianza es capaz de explicar.\n",
    "\n",
    "Estos resultados se pueden mejorar aumentando la cantidad de ejemplo, capturando otras características o haciendo ingeniería de las que tenemos. Más ejemplos siempre permitirán a los modelos aprender mejor de los datos, pero no siempre agregar nuevas features mejorará el desempeño. La ingeniería de características tampoco garantiza mejores resultados, pero probablemente sí lo haga. Por lo tanto, lo ideal sería obtener más ejemplos, e ir probando y agregar  nuevas características y también hacer ingeniería sobre éstas, cómo por ejemplo, la cantidad de títulos en los últimos 5 años."
   ]
  },
  {
   "cell_type": "markdown",
   "metadata": {
    "cell_id": "00045-bd3cc055-46c7-47ae-ac82-07ddb96f99de",
    "deepnote_cell_type": "markdown",
    "id": "Rg4ZMq8ezAH6"
   },
   "source": [
    "# Conclusión\n",
    "Eso ha sido todo para el lab de hoy, recuerden que el laboratorio tiene un plazo de entrega de una semana. Cualquier duda del laboratorio, no duden en contactarnos por mail o U-cursos.\n",
    "\n",
    "<p align=\"center\">\n",
    "  <img src=\"https://media2.giphy.com/media/l1J3CbFgn5o7DGRuE/giphy.gif\">\n",
    "</p>"
   ]
  },
  {
   "cell_type": "markdown",
   "metadata": {
    "cell_id": "00047-2acde338-38a4-455c-879b-3be406525767",
    "deepnote_cell_type": "markdown",
    "id": "wCL1lACBzAH7"
   },
   "source": [
    "<br>\n",
    "<center>\n",
    "<img src=\"https://i.kym-cdn.com/photos/images/original/001/194/195/b18.png\" width=100 height=50 />\n",
    "</center>\n",
    "<br>"
   ]
  },
  {
   "cell_type": "markdown",
   "metadata": {
    "created_in_deepnote_cell": true,
    "deepnote_cell_type": "markdown",
    "tags": []
   },
   "source": [
    "<a style='text-decoration:none;line-height:16px;display:flex;color:#5B5B62;padding:10px;justify-content:end;' href='https://deepnote.com?utm_source=created-in-deepnote-cell&projectId=87110296-876e-426f-b91d-aaf681223468' target=\"_blank\">\n",
    "<img alt='Created in deepnote.com' style='display:inline;max-height:16px;margin:0px;margin-right:7.5px;' src='data:image/svg+xml;base64,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' > </img>\n",
    "Created in <span style='font-weight:600;margin-left:4px;'>Deepnote</span></a>"
   ]
  }
 ],
 "metadata": {
  "colab": {
   "collapsed_sections": [],
   "name": "Laboratorio3.ipynb",
   "provenance": []
  },
  "deepnote": {},
  "deepnote_execution_queue": [],
  "deepnote_notebook_id": "350d39d6-937f-44f2-9da5-3b4d715597f9",
  "kernelspec": {
   "display_name": "mds7202",
   "language": "python",
   "name": "mds7202"
  },
  "language_info": {
   "codemirror_mode": {
    "name": "ipython",
    "version": 3
   },
   "file_extension": ".py",
   "mimetype": "text/x-python",
   "name": "python",
   "nbconvert_exporter": "python",
   "pygments_lexer": "ipython3",
   "version": "3.8.11"
  },
  "toc": {
   "base_numbering": 1,
   "nav_menu": {},
   "number_sections": true,
   "sideBar": true,
   "skip_h1_title": true,
   "title_cell": "Tabla de Contenidos",
   "title_sidebar": "Contenidos",
   "toc_cell": false,
   "toc_position": {
    "height": "calc(100% - 180px)",
    "left": "10px",
    "top": "150px",
    "width": "241.867px"
   },
   "toc_section_display": true,
   "toc_window_display": true
  },
  "varInspector": {
   "cols": {
    "lenName": 16,
    "lenType": 16,
    "lenVar": 40
   },
   "kernels_config": {
    "python": {
     "delete_cmd_postfix": "",
     "delete_cmd_prefix": "del ",
     "library": "var_list.py",
     "varRefreshCmd": "print(var_dic_list())"
    },
    "r": {
     "delete_cmd_postfix": ") ",
     "delete_cmd_prefix": "rm(",
     "library": "var_list.r",
     "varRefreshCmd": "cat(var_dic_list()) "
    }
   },
   "types_to_exclude": [
    "module",
    "function",
    "builtin_function_or_method",
    "instance",
    "_Feature"
   ],
   "window_display": false
  }
 },
 "nbformat": 4,
 "nbformat_minor": 1
}
