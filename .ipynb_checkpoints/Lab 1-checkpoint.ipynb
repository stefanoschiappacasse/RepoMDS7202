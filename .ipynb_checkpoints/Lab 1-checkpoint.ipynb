{
 "cells": [
  {
   "cell_type": "markdown",
   "id": "cd7b1b55",
   "metadata": {
    "id": "cd7b1b55"
   },
   "source": [
    "<h1><center>Laboratorio 1: Primeros pasos 👣</center></h1>\n",
    "\n",
    "<center><strong>MDS7202: Laboratorio de Programación Científica para Ciencia de Datos - Primavera 2021</strong></center>"
   ]
  },
  {
   "cell_type": "markdown",
   "id": "Vp_vOHK7V97e",
   "metadata": {
    "id": "Vp_vOHK7V97e"
   },
   "source": [
    "### Cuerpo Docente:\n",
    "\n",
    "- Profesor: Pablo Badilla\n",
    "- Auxiliar: Ignacio Meza D.\n",
    "- Ayudante: Constanza Peña S."
   ]
  },
  {
   "cell_type": "markdown",
   "id": "4N_5AYgyWKyA",
   "metadata": {
    "id": "4N_5AYgyWKyA"
   },
   "source": [
    "### Equipo: SUPER IMPORTANTE - notebooks sin nombre no serán revisados\n",
    "\n",
    "- Nombre de alumno 1: Stefano Schiappacasse"
   ]
  },
  {
   "cell_type": "markdown",
   "id": "1rjlaJDEWxd9",
   "metadata": {
    "id": "1rjlaJDEWxd9"
   },
   "source": [
    "### **Link de repositorio de GitHub:** https://github.com/stefanoschiappacasse/RepoMDS7202"
   ]
  },
  {
   "cell_type": "markdown",
   "id": "9el9ERaKWW3i",
   "metadata": {
    "id": "9el9ERaKWW3i"
   },
   "source": [
    "## Reglas:\n",
    "\n",
    "- Fecha de entrega: 1 semana desde la publicación, 3 días de atraso con 1 punto de descuento c/u. Pueden utilizar días bonus sin descuento.\n",
    "- **Grupos de 2 personas**.\n",
    "- **Ausentes** deberán realizar la actividad solos. \n",
    "- Cualquier duda fuera del horario de clases al foro. Mensajes al equipo docente serán respondidos por este medio.\n",
    "- Prohibidas las copias. \n",
    "- Pueden usar cualquer material del curso que estimen conveniente.\n"
   ]
  },
  {
   "cell_type": "markdown",
   "id": "4708b9b7",
   "metadata": {
    "id": "4708b9b7"
   },
   "source": [
    "\n",
    "## Objetivos del lab: \n",
    "\n",
    "\n",
    "- Variables, Operadores y Expresiones.\n",
    "- Estructuras de Control (if/else).\n",
    "- Iteraciones.\n",
    "- Listas y Diccionarios.\n",
    "- Programación Funcional (Map, Filter y Reduce).\n",
    "- Programación Orientada a Objetos (Encapsulamiento, Polimorfismo y Herencia)"
   ]
  },
  {
   "cell_type": "markdown",
   "id": "d58b089c",
   "metadata": {
    "id": "d58b089c"
   },
   "source": [
    "## Parte 1: 🍋 Frutas 🍓\n",
    "\n",
    "En esta primera parte se trabajará lo escencial visto hasta el momento más un poco de programación funcional a través de frutas:\n",
    "\n",
    "<div align='center'>\n",
    "<img src='https://upload.wikimedia.org/wikipedia/commons/a/a2/Berries_in_Berlin.jpg' width=600/>\n",
    "</div>"
   ]
  },
  {
   "cell_type": "markdown",
   "id": "5fdf6b19",
   "metadata": {
    "id": "5fdf6b19"
   },
   "source": [
    "Defina las siguientes frutas como diccionarios a partir de sus características (nombre, color, tipo y si posee o no pepas):\n",
    "\n",
    "| Nombre    | Tipo     | Color    | Pepas |\n",
    "|-----------|----------|----------|-------|\n",
    "| limon     | cítrica  | amarillo | True  |\n",
    "| naranja   | cítrica  | naranjo  | True  |\n",
    "| plátano   | tropical | amarillo | False |\n",
    "| piña      | tropical | amarillo | False |\n",
    "| frutilla  | bosque   | rojo     | True |\n",
    "| frambuesa | bosque   | rojo     | True |"
   ]
  },
  {
   "cell_type": "markdown",
   "id": "33aed47b",
   "metadata": {
    "id": "33aed47b"
   },
   "source": [
    "### Estructurar Datos [0.5 puntos]\n",
    "\n",
    "Agregue Piña, Frutilla y Frambuesa como diccionarios (siga los ejemplos de las frutas dadas) y luego cree un arreglo que contenga estas frutas.\n"
   ]
  },
  {
   "cell_type": "code",
   "execution_count": 1,
   "id": "26d23e26",
   "metadata": {
    "id": "26d23e26"
   },
   "outputs": [],
   "source": [
    "limon = {\n",
    "    \"nombre\": \"limón\", \n",
    "    \"tipo\": \"cítrica\", \n",
    "    \"color\": \"amarillo\", \n",
    "    \"pepas\": True\n",
    "    }\n",
    "\n",
    "naranja = {\"nombre\": \"naranja\", \n",
    "           \"tipo\": \"cítrica\", \n",
    "           \"color\": \"naranjo\", \n",
    "           \"pepas\": True\n",
    "          }\n",
    "\n",
    "platano = {\"nombre\": \"plátano\", \n",
    "           \"tipo\": \"tropical\", \n",
    "           \"color\": \"amarillo\", \n",
    "           \"pepas\": False\n",
    "          }\n",
    "\n",
    "# agregar las frutas que faltan aquí\n",
    "piña = {\n",
    "    \"nombre\": \"piña\", \n",
    "    \"tipo\": \"tropical\", \n",
    "    \"color\": \"amarillo\", \n",
    "    \"pepas\": False\n",
    "    }\n",
    "frutilla = {\n",
    "    \"nombre\": \"frutilla\", \n",
    "    \"tipo\": \"bosque\", \n",
    "    \"color\": \"rojo\", \n",
    "    \"pepas\": True\n",
    "    }\n",
    "frambuesa = {\n",
    "    \"nombre\": \"frambuesa\", \n",
    "    \"tipo\": \"bosque\", \n",
    "    \"color\": \"rojo\", \n",
    "    \"pepas\": True\n",
    "    }"
   ]
  },
  {
   "cell_type": "markdown",
   "id": "259ee333",
   "metadata": {
    "id": "259ee333"
   },
   "source": [
    "Ahora, agregue todas las frutas a un arreglo."
   ]
  },
  {
   "cell_type": "code",
   "execution_count": 60,
   "id": "fcf62186",
   "metadata": {
    "id": "fcf62186"
   },
   "outputs": [],
   "source": [
    "# Ojo: agregue los datos en el mismo orden que aparecen en la tabla\n",
    "datos = [limon, naranja, platano, piña, frutilla, frambuesa]"
   ]
  },
  {
   "cell_type": "markdown",
   "id": "2ed7730e",
   "metadata": {
    "id": "2ed7730e"
   },
   "source": [
    "Este arreglo será la información con la que se trabajará durante el lab."
   ]
  },
  {
   "cell_type": "code",
   "execution_count": 59,
   "id": "790dfb6e",
   "metadata": {},
   "outputs": [
    {
     "data": {
      "text/plain": [
       "[{'nombre': 'limón', 'tipo': 'cítrica', 'color': 'amarillo', 'pepas': True},\n",
       " {'nombre': 'naranja', 'tipo': 'cítrica', 'color': 'naranjo', 'pepas': True},\n",
       " {'nombre': 'plátano',\n",
       "  'tipo': 'tropical',\n",
       "  'color': 'amarillo',\n",
       "  'pepas': False},\n",
       " {'nombre': 'piña', 'tipo': 'tropical', 'color': 'amarillo', 'pepas': False},\n",
       " {'nombre': 'frutilla', 'tipo': 'bosque', 'color': 'rojo', 'pepas': True},\n",
       " {'nombre': 'frambuesa', 'tipo': 'bosque', 'color': 'rojo', 'pepas': True},\n",
       " {'nombre': 'cereza', 'tipo': 'bosque', 'color': 'rojo', 'pepas': True},\n",
       " {'nombre': 'maracuya',\n",
       "  'tipo': 'tropical',\n",
       "  'color': 'amarillo',\n",
       "  'pepas': True},\n",
       " {'nombre': 'pomelo', 'tipo': 'cítrica', 'color': 'naranjo', 'sabor': True}]"
      ]
     },
     "execution_count": 59,
     "metadata": {},
     "output_type": "execute_result"
    }
   ],
   "source": [
    "datos.extend([{\"nombre\": \"cereza\",\n",
    "                   \"tipo\": \"bosque\",\n",
    "                   \"color\": \"rojo\",\n",
    "                   \"pepas\": True},\n",
    "                  {\"nombre\": \"maracuya\",\n",
    "                   \"tipo\": \"tropical\",\n",
    "                   \"color\": \"amarillo\",\n",
    "                   \"pepas\": True},\n",
    "                  {\"nombre\": \"pomelo\",\n",
    "                   \"tipo\": \"cítrica\",\n",
    "                   \"color\": \"naranjo\",\n",
    "                   \"sabor\": True}])\n",
    "datos"
   ]
  },
  {
   "cell_type": "code",
   "execution_count": 57,
   "id": "15c34949",
   "metadata": {},
   "outputs": [
    {
     "data": {
      "text/plain": [
       "[{'nombre': 'limón', 'tipo': 'cítrica', 'color': 'amarillo', 'pepas': True},\n",
       " {'nombre': 'naranja', 'tipo': 'cítrica', 'color': 'naranjo', 'pepas': True},\n",
       " {'nombre': 'plátano',\n",
       "  'tipo': 'tropical',\n",
       "  'color': 'amarillo',\n",
       "  'pepas': False},\n",
       " {'nombre': 'piña', 'tipo': 'tropical', 'color': 'amarillo', 'pepas': False},\n",
       " {'nombre': 'frutilla', 'tipo': 'bosque', 'color': 'rojo', 'pepas': True},\n",
       " {'nombre': 'frambuesa', 'tipo': 'bosque', 'color': 'rojo', 'pepas': True},\n",
       " {'nombre': 'cereza', 'tipo': 'bosque', 'color': 'rojo', 'pepas': True},\n",
       " {'nombre': 'maracuya',\n",
       "  'tipo': 'tropical',\n",
       "  'color': 'amarillo',\n",
       "  'pepas': True},\n",
       " {'nombre': 'pomelo', 'tipo': 'cítrica', 'color': 'naranjo', 'sabor': True}]"
      ]
     },
     "execution_count": 57,
     "metadata": {},
     "output_type": "execute_result"
    }
   ],
   "source": [
    "datos"
   ]
  },
  {
   "cell_type": "markdown",
   "id": "e9b1e46d",
   "metadata": {
    "id": "e9b1e46d"
   },
   "source": [
    "### Funciones Aplicadas a los Datos [1.5 puntos]"
   ]
  },
  {
   "cell_type": "markdown",
   "id": "b7b016d6",
   "metadata": {
    "id": "b7b016d6"
   },
   "source": [
    "Elabore las siguientes funciones:\n",
    "    \n",
    "**1. La función `describir(datos)` que genere un arreglo con strings que describan cada fruta de la siguiente manera:**\n",
    "\n",
    "```{El/La} {...} es una fruta de tipo {...} de color {...}. {Presenta/No presenta} pepas en su interior.```\n",
    "    \n",
    "Por ejemplo, para el plátano se debe generar el siguiente string:\n",
    "    \n",
    "```\n",
    "'El plátano es una fruta de tipo tropical de color amarillo. No presenta pepas en su interior.'\n",
    "```\n",
    "    \n",
    "Indicaciones: \n",
    "- Usen formateo o suma de strings, if, else y for.\n",
    "- Para saber si ocupar 'El' o 'La', pueden acceder al nombre de la fruta y ver cual es el último carácter a través de indexadores `string[indice]`.\n",
    "    \n",
    "**2. La función `filtrar_por_pepa(datos, tiene_pepas)` que dado un tipo de fruta y un booleano, retorne las frutas que tienen o no tienen pepas (según el valor de `tiene_pepas`).**\n",
    "    \n",
    "\n",
    "Por ejemplo, `filtrar_por_pepa(datos, True)` deberá retornar un arreglo con los diccionarios de: naranja, limon, frutilla y frambuesa.\n",
    "\n",
    "\n",
    "**3. La función `conteo_colores(datos)` que cree un diccionario que haga un conteo los colores de las frutas.**\n",
    "\n",
    "Para estos datos, la función debería retornar el siguiente diccionario: \n",
    "    \n",
    "```python\n",
    "{\"amarillo\": 3, \"naranjo\": 1, \"rojo\": 2, \"café\": 2}\n",
    "````"
   ]
  },
  {
   "cell_type": "markdown",
   "id": "9Wqh7UyYXXIi",
   "metadata": {
    "id": "9Wqh7UyYXXIi"
   },
   "source": [
    "**Desarrollo de código:**"
   ]
  },
  {
   "cell_type": "code",
   "execution_count": 3,
   "id": "023bc051",
   "metadata": {
    "id": "023bc051"
   },
   "outputs": [],
   "source": [
    "def describir(datos):\n",
    "    descripciones = []\n",
    "    for fruta in datos:\n",
    "        ElOLa = 'La' if fruta['nombre'][-1] == 'a' else 'El'\n",
    "        PresentaONoPepas = 'Presenta' if fruta['pepas'] else 'No presenta'\n",
    "        descripcion = '{} {} es una fruta de tipo {} de color {}. {} ' \\\n",
    "                       'pepas en su interior.'.format(ElOLa, fruta['nombre'], fruta['tipo'],                                                     fruta['color'],\n",
    "                                                    PresentaONoPepas)\n",
    "        descripciones.append(descripcion)\n",
    "    return descripciones\n",
    "\n",
    "\n",
    "def filtrar_por_pepa(datos, tiene_pepas):\n",
    "    filtrados = [dato for dato in datos if dato['pepas']]\n",
    "    return filtrados\n",
    "\n",
    "\n",
    "def conteo_colores(datos):\n",
    "    conteo = {}\n",
    "    for fruta in datos:\n",
    "        key = fruta['color']\n",
    "        if key not in conteo:\n",
    "            conteo[key] = 1\n",
    "        else:\n",
    "            conteo[key] += 1        \n",
    "    return conteo"
   ]
  },
  {
   "cell_type": "markdown",
   "id": "5240bec1",
   "metadata": {
    "id": "5240bec1"
   },
   "source": [
    "El código de la siguiente celda presenta tests para probar sus funciones: Si la ejecución de esta celda no les levanta ninguna excepción, entonces sus funciones están implementadas según lo requerido. Si alguna falla, entonces deberán corregir los errores mostrados. \n",
    "Noten que los strings, diccionarios y en general, los objetos deben ser exactamente idénticos para que el test no falle."
   ]
  },
  {
   "cell_type": "markdown",
   "id": "_DWuD58nXd2q",
   "metadata": {
    "id": "_DWuD58nXd2q"
   },
   "source": [
    "**Ejecuten esta celda para comprobar su código:**"
   ]
  },
  {
   "cell_type": "code",
   "execution_count": 4,
   "id": "c39b58c0",
   "metadata": {
    "id": "c39b58c0"
   },
   "outputs": [],
   "source": [
    "# ---------------------------------------------------------------------\n",
    "# test descripciones\n",
    "# note que las frutas deben estar en igual orden para que este assert no falle.\n",
    "\n",
    "descripciones_esperadas = [\n",
    "    \"El limón es una fruta de tipo cítrica de color amarillo. Presenta pepas en su interior.\",\n",
    "    \"La naranja es una fruta de tipo cítrica de color naranjo. Presenta pepas en su interior.\",\n",
    "    \"El plátano es una fruta de tipo tropical de color amarillo. No presenta pepas en su interior.\",\n",
    "    \"La piña es una fruta de tipo tropical de color amarillo. No presenta pepas en su interior.\",\n",
    "    \"La frutilla es una fruta de tipo bosque de color rojo. Presenta pepas en su interior.\",\n",
    "    \"La frambuesa es una fruta de tipo bosque de color rojo. Presenta pepas en su interior.\",\n",
    "]\n",
    "\n",
    "assert descripciones_esperadas == describir(datos)\n",
    "\n",
    "\n",
    "# ---------------------------------------------------------------------\n",
    "# test filtro\n",
    "frutas_con_pepa_esperadas = [\n",
    "    {\"nombre\": \"limón\", \"tipo\": \"cítrica\", \"color\": \"amarillo\", \"pepas\": True},\n",
    "    {\"nombre\": \"naranja\", \"tipo\": \"cítrica\", \"color\": \"naranjo\", \"pepas\": True},\n",
    "    {\"nombre\": \"frutilla\", \"tipo\": \"bosque\", \"color\": \"rojo\", \"pepas\": True},\n",
    "    {\"nombre\": \"frambuesa\", \"tipo\": \"bosque\", \"color\": \"rojo\", \"pepas\": True},\n",
    "]\n",
    "\n",
    "assert frutas_con_pepa_esperadas == filtrar_por_pepa(datos, True)\n",
    "\n",
    "# ---------------------------------------------------------------------\n",
    "# test conteo\n",
    "conteo_esperado = {'amarillo': 3, 'naranjo': 1, 'rojo': 2}\n",
    "\n",
    "\n",
    "assert conteo_esperado == conteo_colores(datos) \n"
   ]
  },
  {
   "cell_type": "markdown",
   "id": "ef45d2ea",
   "metadata": {
    "id": "ef45d2ea"
   },
   "source": [
    "### Implementaciones Funcionales [1.0 punto] \n",
    "\n",
    "Implementar las funciones de la sección anterior de forma funcional (solo las primeras 2 funciones).\n",
    "\n"
   ]
  },
  {
   "cell_type": "code",
   "execution_count": 5,
   "id": "c6ef993a",
   "metadata": {
    "id": "c6ef993a"
   },
   "outputs": [],
   "source": [
    "def describir_funcional(datos):\n",
    "\n",
    "    def generar_descripcion(fruta):\n",
    "        ElOLa = 'La' if fruta['nombre'][-1] == 'a' else 'El'\n",
    "        PresentaONoPepas = 'Presenta' if fruta['pepas'] else 'No presenta'\n",
    "        descripcion = '{} {} es una fruta de tipo {} de color {}. {} ' \\\n",
    "                       'pepas en su interior.'.format(ElOLa, fruta['nombre'], fruta['tipo'],                                                     fruta['color'],\n",
    "                                                    PresentaONoPepas)\n",
    "        return descripcion\n",
    "\n",
    "    return list(map(generar_descripcion, datos))\n",
    "    \n",
    "def filtrar_por_pepa_funcional(datos, tipo_de_dato = True):\n",
    "    return list(filter(lambda x: x['pepas'] == tipo_de_dato, datos))\n"
   ]
  },
  {
   "cell_type": "markdown",
   "id": "fwno3rOhn_jd",
   "metadata": {
    "id": "fwno3rOhn_jd"
   },
   "source": [
    "Nuevamente más tests, ahora para las funciones con map y filter.\n",
    "\n",
    "**Ejecuten esta celda para comprobar su código:**"
   ]
  },
  {
   "cell_type": "code",
   "execution_count": 6,
   "id": "vlRVONAClo3i",
   "metadata": {
    "id": "vlRVONAClo3i"
   },
   "outputs": [],
   "source": [
    "assert descripciones_esperadas == describir_funcional(datos)\n",
    "assert frutas_con_pepa_esperadas == filtrar_por_pepa_funcional(datos, True)"
   ]
  },
  {
   "cell_type": "markdown",
   "id": "492b941a",
   "metadata": {
    "id": "492b941a"
   },
   "source": [
    "## Parte 2: Electrodomésticos 🧃\n",
    "\n",
    "En esta parte se solicitarán un par de clases que permitirá jugar con la Programación Orientada a Objetos.\n",
    "\n",
    "<div align='center'>\n",
    "<img src='https://upload.wikimedia.org/wikipedia/commons/6/67/Breville.jpg' width=400/>\n",
    "</div>"
   ]
  },
  {
   "cell_type": "markdown",
   "id": "PDaUTTiLd8fl",
   "metadata": {
    "id": "PDaUTTiLd8fl"
   },
   "source": [
    "### Clase Electrodoméstico [0.5 puntos] \n",
    "\n",
    "\n",
    "\n",
    "\n",
    "Defina la clase `Electrodomestico` que implemente:\n",
    "\n",
    "\n",
    "- Un constructor que defina un atributo de instancia llamado `enchufado` que almacene valores booleanos. \n",
    "- Un método llamado `esta_enchufado(self)` que levante una excepción `Exception` y que termine con la ejecución del programa cuando el atributo enchuado sea `False`. La exepción debe levantar el mensaje `'Alerta ⚠️: El electrodoméstico no está enchufado'`"
   ]
  },
  {
   "cell_type": "code",
   "execution_count": 7,
   "id": "9f8aa475",
   "metadata": {
    "id": "9f8aa475"
   },
   "outputs": [],
   "source": [
    "class Electrodomestico:\n",
    "    def __init__(self):\n",
    "      self.enchufado = False\n",
    "        \n",
    "    def esta_enchufado(self):\n",
    "      if not self.enchufado:\n",
    "        raise ValueError(\n",
    "                'Alerta ⚠️: El electrodoméstico no está enchufado'\n",
    "            )\n",
    "      else:\n",
    "        print('El electrodoméstico está enchufado')\n",
    "            \n",
    "    def enchufar(self):\n",
    "      self.enchufado = True\n",
    "    \n",
    "    def desenchufar(self):\n",
    "      self.enchufado = False"
   ]
  },
  {
   "cell_type": "markdown",
   "id": "d7d477b5",
   "metadata": {
    "id": "d7d477b5"
   },
   "source": [
    "### Clase Jugera [2.5 puntos] \n",
    "\n",
    "\n",
    "<div align='center'>\n",
    "<img src='https://upload.wikimedia.org/wikipedia/commons/b/bb/Liquadora_%28parts%29.JPG' width=400/>\n",
    "</div>\n",
    "\n"
   ]
  },
  {
   "cell_type": "markdown",
   "id": "f72a5754",
   "metadata": {
    "id": "f72a5754"
   },
   "source": [
    "Implemente la clase `Jugera` que extiende `Electrodomestico` y que implemente: \n",
    "\n",
    "\n",
    "- Un constructor que tenga una lista de ingredientes frutales (llamado `bandeja`).\n",
    "\n",
    "\n",
    "- Un método llamado `agregar_ingrediente(self, nueva_fruta)` que dado una fruta, agregue esa fruta a la `bandeja`.\n",
    "\n",
    "- Un método llamado `listar_ingredientes(self)` que imprima (con `print`) los ingredientes actuales de la `bandeja` de la siguiente forma: \n",
    "\n",
    "    `Ingredientes en la bandeja: frutilla, frambuesa, piña.`\n",
    "\n",
    "    Hint: Investigar el método `join` de un string para generar el string con los nombres de las frutas.\n",
    "    \n",
    "    \n",
    "    \n",
    "\n",
    "- Un método llamado `preparar_jugo(self)` que: \n",
    "    - Primero verifique que el electrodoméstico esté enchufado usando `self.esta_enchufado()`.\n",
    "    - Verifique que haya por lo menos un ingrediente en la `bandeja`. En el caso que no haya, levantar una excepción con contenido `'Error ❌: La bandeja no tiene ingredientes.'`\n",
    "    - Verifique que ninguna fruta tenga pepas. En el caso que haya alguna, imprimir (con `print`) el mensaje de advertencia `'Alerta ⚠️: El jugo puede contener restos de pepas.'`. Puede usar la función definida en la sección anterior.\n",
    "    - Genere un mensaje indicado `Jugo de {nombres de las frutas separadas por una ,} listo. 🏖️🥤 Que lo disfrutes!!! 🥤🏖️. ` (Hint: Usar nuevamente `join`).\n",
    "    - Vacie la `bandeja` (es decir, eliminar todas las frutas de la bandeja).\n",
    "    - Retorne el mensaje generado.\n"
   ]
  },
  {
   "cell_type": "code",
   "execution_count": 8,
   "id": "d9db037b",
   "metadata": {
    "id": "d9db037b"
   },
   "outputs": [],
   "source": [
    "class Jugera(Electrodomestico):\n",
    "    \n",
    "    def __init__(self):\n",
    "        super().__init__()\n",
    "        self.bandeja= []\n",
    "        \n",
    "    def agregar_ingrediente(self, nueva_fruta):\n",
    "        if type(nueva_fruta) == str:\n",
    "            self.bandeja.append(nueva_fruta)\n",
    "        else:\n",
    "            self.bandeja.extend(nueva_fruta)\n",
    "     \n",
    "    def listar_ingredientes(self):\n",
    "        if len(self.bandeja) == 0:\n",
    "            return print('Bandeja vacía.')\n",
    "        else:\n",
    "            return print(f'Ingredientes en la bandeja: {\", \".join(self.bandeja)}.')\n",
    "\n",
    "    \n",
    "    def preparar_jugo(self):\n",
    "        if not self.enchufado:\n",
    "            raise ValueError(\n",
    "                'Error ❌: la juguera no está enchufada. Por favor enchufe la juguera antes de preparar el jugo.')\n",
    "            \n",
    "        if len(self.bandeja) == 0:\n",
    "            raise ValueError(\n",
    "                'Error ❌: La bandeja no tiene ingredientes.')\n",
    "        \n",
    "        else:\n",
    "            mensaje = self.verificacion_pepas(self.bandeja)\n",
    "            \n",
    "        self.bandeja = []\n",
    "        print(mensaje)\n",
    "        return\n",
    "    \n",
    "        \n",
    "    def verificacion_pepas(self, bandeja):\n",
    "        frutasNoDefinidas = []\n",
    "        frutasDefinidas = []\n",
    "        \n",
    "        for frutaBandeja in bandeja:\n",
    "            if frutaBandeja.upper() not in [fruta['nombre'].upper() for fruta in datos]:\n",
    "                frutasNoDefinidas.append(frutaBandeja)\n",
    "            else:\n",
    "                frutasDefinidas.extend([fruta for fruta in datos if fruta['nombre'].upper() == frutaBandeja.upper()])\n",
    "        if len(frutasNoDefinidas) > 0:\n",
    "            print(f'Existen las siguientes frutas sin definir: {\", \".join(frutasNoDefinidas)}. Por favor, '\\\n",
    "                  'defínilas antes de continuar con la preparación del jugo.')\n",
    "            return\n",
    "        \n",
    "        frutasDefinidasConPepas = [fruta for fruta in frutasDefinidas if fruta['pepas']]\n",
    "        if len(frutasDefinidasConPepas) > 0:\n",
    "            print('Alerta ⚠️: El jugo puede contener restos de pepas.')\n",
    "       \n",
    "        mensaje = f'Jugo de {\", \".join([fruta[\"nombre\"] for fruta in frutasDefinidas])}'\\\n",
    "                      ' listo. 🏖️🥤 Que lo disfrutes!!! 🥤🏖️'\n",
    "        \n",
    "        return mensaje\n",
    "        \n",
    "    "
   ]
  },
  {
   "cell_type": "markdown",
   "id": "6889015a",
   "metadata": {
    "id": "6889015a"
   },
   "source": [
    "### Interacciones\n",
    "\n",
    "Las siguientes celdas les permitirán probar las interacciones de esta clase.\n",
    "La ejecución es solo referencial y no lleva puntaje. La idea es que la utilice como guía para desarrollar la clase."
   ]
  },
  {
   "cell_type": "code",
   "execution_count": 9,
   "id": "913af660",
   "metadata": {
    "id": "913af660",
    "outputId": "ce258367-a758-4398-f4a8-f081245bfa60"
   },
   "outputs": [
    {
     "name": "stdout",
     "output_type": "stream",
     "text": [
      "Bandeja vacía.\n"
     ]
    }
   ],
   "source": [
    "jugera = Jugera()\n",
    "\n",
    "# Como no tenemos ingredientes, listar_ingredientes deberá imprimir 'Bandeja vacía'\n",
    "jugera.listar_ingredientes()"
   ]
  },
  {
   "cell_type": "code",
   "execution_count": 10,
   "id": "9d06bf3e",
   "metadata": {
    "id": "9d06bf3e",
    "outputId": "6ce58841-fbaa-43a5-eea6-2b0842e77ed4",
    "scrolled": false
   },
   "outputs": [
    {
     "ename": "ValueError",
     "evalue": "Error ❌: la juguera no está enchufada. Por favor enchufe la juguera antes de preparar el jugo.",
     "output_type": "error",
     "traceback": [
      "\u001b[1;31m---------------------------------------------------------------------------\u001b[0m",
      "\u001b[1;31mValueError\u001b[0m                                Traceback (most recent call last)",
      "\u001b[1;32m<ipython-input-10-12a82fa67e1d>\u001b[0m in \u001b[0;36m<module>\u001b[1;34m\u001b[0m\n\u001b[0;32m      1\u001b[0m \u001b[1;31m# Esta celda debería levantar una excepcion indicando que no está enchufada la jugera.\u001b[0m\u001b[1;33m\u001b[0m\u001b[1;33m\u001b[0m\u001b[1;33m\u001b[0m\u001b[0m\n\u001b[1;32m----> 2\u001b[1;33m \u001b[0mjugera\u001b[0m\u001b[1;33m.\u001b[0m\u001b[0mpreparar_jugo\u001b[0m\u001b[1;33m(\u001b[0m\u001b[1;33m)\u001b[0m\u001b[1;33m\u001b[0m\u001b[1;33m\u001b[0m\u001b[0m\n\u001b[0m",
      "\u001b[1;32m<ipython-input-8-3a2b18752c43>\u001b[0m in \u001b[0;36mpreparar_jugo\u001b[1;34m(self)\u001b[0m\n\u001b[0;32m     20\u001b[0m     \u001b[1;32mdef\u001b[0m \u001b[0mpreparar_jugo\u001b[0m\u001b[1;33m(\u001b[0m\u001b[0mself\u001b[0m\u001b[1;33m)\u001b[0m\u001b[1;33m:\u001b[0m\u001b[1;33m\u001b[0m\u001b[1;33m\u001b[0m\u001b[0m\n\u001b[0;32m     21\u001b[0m         \u001b[1;32mif\u001b[0m \u001b[1;32mnot\u001b[0m \u001b[0mself\u001b[0m\u001b[1;33m.\u001b[0m\u001b[0menchufado\u001b[0m\u001b[1;33m:\u001b[0m\u001b[1;33m\u001b[0m\u001b[1;33m\u001b[0m\u001b[0m\n\u001b[1;32m---> 22\u001b[1;33m             raise ValueError(\n\u001b[0m\u001b[0;32m     23\u001b[0m                 'Error ❌: la juguera no está enchufada. Por favor enchufe la juguera antes de preparar el jugo.')\n\u001b[0;32m     24\u001b[0m \u001b[1;33m\u001b[0m\u001b[0m\n",
      "\u001b[1;31mValueError\u001b[0m: Error ❌: la juguera no está enchufada. Por favor enchufe la juguera antes de preparar el jugo."
     ]
    }
   ],
   "source": [
    "# Esta celda debería levantar una excepcion indicando que no está enchufada la jugera.\n",
    "jugera.preparar_jugo()"
   ]
  },
  {
   "cell_type": "code",
   "execution_count": 11,
   "id": "3ad38f18",
   "metadata": {
    "id": "3ad38f18"
   },
   "outputs": [],
   "source": [
    "# Enchufamos el electrodoméstico\n",
    "jugera.enchufar()"
   ]
  },
  {
   "cell_type": "code",
   "execution_count": 12,
   "id": "48009872",
   "metadata": {
    "id": "48009872",
    "outputId": "5b46ee29-ad22-46a4-aebe-d9bd7c5325c2",
    "scrolled": true
   },
   "outputs": [
    {
     "ename": "ValueError",
     "evalue": "Error ❌: La bandeja no tiene ingredientes.",
     "output_type": "error",
     "traceback": [
      "\u001b[1;31m---------------------------------------------------------------------------\u001b[0m",
      "\u001b[1;31mValueError\u001b[0m                                Traceback (most recent call last)",
      "\u001b[1;32m<ipython-input-12-763feb2b9970>\u001b[0m in \u001b[0;36m<module>\u001b[1;34m\u001b[0m\n\u001b[0;32m      1\u001b[0m \u001b[1;31m# Esta celda debería levantar ina excepción informandoles que la bandeja no tiene ingredientes.\u001b[0m\u001b[1;33m\u001b[0m\u001b[1;33m\u001b[0m\u001b[1;33m\u001b[0m\u001b[0m\n\u001b[1;32m----> 2\u001b[1;33m \u001b[0mjugera\u001b[0m\u001b[1;33m.\u001b[0m\u001b[0mpreparar_jugo\u001b[0m\u001b[1;33m(\u001b[0m\u001b[1;33m)\u001b[0m\u001b[1;33m\u001b[0m\u001b[1;33m\u001b[0m\u001b[0m\n\u001b[0m",
      "\u001b[1;32m<ipython-input-8-3a2b18752c43>\u001b[0m in \u001b[0;36mpreparar_jugo\u001b[1;34m(self)\u001b[0m\n\u001b[0;32m     24\u001b[0m \u001b[1;33m\u001b[0m\u001b[0m\n\u001b[0;32m     25\u001b[0m         \u001b[1;32mif\u001b[0m \u001b[0mlen\u001b[0m\u001b[1;33m(\u001b[0m\u001b[0mself\u001b[0m\u001b[1;33m.\u001b[0m\u001b[0mbandeja\u001b[0m\u001b[1;33m)\u001b[0m \u001b[1;33m==\u001b[0m \u001b[1;36m0\u001b[0m\u001b[1;33m:\u001b[0m\u001b[1;33m\u001b[0m\u001b[1;33m\u001b[0m\u001b[0m\n\u001b[1;32m---> 26\u001b[1;33m             raise ValueError(\n\u001b[0m\u001b[0;32m     27\u001b[0m                 'Error ❌: La bandeja no tiene ingredientes.')\n\u001b[0;32m     28\u001b[0m \u001b[1;33m\u001b[0m\u001b[0m\n",
      "\u001b[1;31mValueError\u001b[0m: Error ❌: La bandeja no tiene ingredientes."
     ]
    }
   ],
   "source": [
    "# Esta celda debería levantar ina excepción informandoles que la bandeja no tiene ingredientes.\n",
    "jugera.preparar_jugo()"
   ]
  },
  {
   "cell_type": "code",
   "execution_count": 13,
   "id": "4873e0bf",
   "metadata": {
    "id": "4873e0bf",
    "outputId": "e8ba6792-dd0e-4b67-86d1-da1b2e2aab6b"
   },
   "outputs": [
    {
     "name": "stdout",
     "output_type": "stream",
     "text": [
      "Ingredientes en la bandeja: naranja, plátano.\n"
     ]
    }
   ],
   "source": [
    "# Agregamos algunos ingredientes\n",
    "jugera.agregar_ingrediente('naranja')\n",
    "jugera.agregar_ingrediente('plátano')\n",
    "\n",
    "# Y los listamos (debería imprimir: 'Ingredientes en la bandeja: naranja, plátano')\n",
    "jugera.listar_ingredientes()"
   ]
  },
  {
   "cell_type": "code",
   "execution_count": 14,
   "id": "ff555151",
   "metadata": {
    "id": "ff555151",
    "outputId": "219e56f9-290e-4514-a404-d2612d8756d5"
   },
   "outputs": [
    {
     "name": "stdout",
     "output_type": "stream",
     "text": [
      "Alerta ⚠️: El jugo puede contener restos de pepas.\n",
      "Jugo de naranja, plátano listo. 🏖️🥤 Que lo disfrutes!!! 🥤🏖️\n"
     ]
    }
   ],
   "source": [
    "# Preparamos el jugo: 'Jugo de naranja, plátano listo. 🏖️🥤 Que lo disfrutes!!! 🥤🏖️.'\n",
    "jugera.preparar_jugo()"
   ]
  },
  {
   "cell_type": "code",
   "execution_count": 15,
   "id": "bbc532b2",
   "metadata": {
    "id": "bbc532b2",
    "outputId": "066e90cc-99c7-487c-c262-a1be46aac7a4"
   },
   "outputs": [
    {
     "name": "stdout",
     "output_type": "stream",
     "text": [
      "Bandeja vacía.\n"
     ]
    }
   ],
   "source": [
    "# Una vez preparado el jugo, debería vaciarse la bandeja (imprimir Bandeja vacía)\n",
    "jugera.listar_ingredientes()"
   ]
  },
  {
   "cell_type": "markdown",
   "id": "972dbcac",
   "metadata": {
    "id": "972dbcac"
   },
   "source": [
    "## Bonus [0.5]\n",
    "\n",
    "Implementar `bandeja` usando una `property` que permita setear una `nueva_bandeja` como `bandeja` según las siguientes condiciones:\n",
    "\n",
    "\n",
    "- Compruebe que `nueva_bandeja` sea una lista. En caso contrario, levante una excepción.\n",
    "- No permita agregar más de 3 ingredientes a la bandeja a la vez. Si se entregan más de 3 frutas, se levante una excepción.\n",
    "- Se compruebe que todos los elementos del arreglo sean frutas. Para esto, por cada fruta compruebe que:\n",
    "    1. La fruta sea diccionario.\n",
    "    2. El diccionario entregado tenga las llaves `nombre`, `tipo`, `color` y `pepas`."
   ]
  },
  {
   "cell_type": "code",
   "execution_count": 61,
   "id": "cVRf_u57sI0i",
   "metadata": {
    "id": "cVRf_u57sI0i"
   },
   "outputs": [],
   "source": [
    "class Jugera(Electrodomestico):\n",
    "    \n",
    "    def __init__(self):\n",
    "        super().__init__()\n",
    "        self._bandeja= []\n",
    "\n",
    "    @property\n",
    "    def bandeja(self):\n",
    "        return self._bandeja\n",
    "        \n",
    "    @bandeja.setter\n",
    "    def bandeja(self, nueva_bandeja):\n",
    "        if type(nueva_bandeja) != list:\n",
    "            raise ValueError (\n",
    "                'Error ❌: la bandeja ingresada no es una lista.'\n",
    "            )\n",
    "        elif len(nueva_bandeja) > 3:\n",
    "            raise ValueError (\n",
    "                'Error ❌: la bandeja ingresada no puede contener más de tres frutas.'\n",
    "            )\n",
    "        else:\n",
    "            frutasQueNoSonDiccionarios = []\n",
    "            frutasQueNoContienenLasMismasLlaves = []\n",
    "            for fruta in nueva_bandeja:\n",
    "                if type(fruta) != dict:\n",
    "                    frutasQueNoSonDiccionarios.append(fruta)\n",
    "            if len(frutasQueNoSonDiccionarios) > 0:\n",
    "                raise ValueError (\n",
    "                    f'Error ❌: la bandeja ingresada contiene {len(frutasQueNoSonDiccionarios)} '\\\n",
    "                    'frutas que no son diccionarios.'\n",
    "                    )\n",
    "            else:\n",
    "                for fruta in nueva_bandeja:\n",
    "                    if set(fruta.keys()) != set(['nombre', 'color', 'tipo', 'pepas']):\n",
    "                        frutasQueNoContienenLasMismasLlaves.append(fruta)\n",
    "                \n",
    "                if len(frutasQueNoContienenLasMismasLlaves) > 0:\n",
    "                    raise ValueError (\n",
    "                    f'Error ❌: la bandeja ingresada contiene {len(frutasQueNoContienenLasMismasLlaves)} '\\\n",
    "                    'fruta que no poseen exactamente las llaves nombre, tipo, color y pepas.'\n",
    "                    )\n",
    "                else:\n",
    "                    self._bandeja = [fruta['nombre'] for fruta in nueva_bandeja]\n",
    "                    datos.extend(nueva_bandeja)\n",
    "                               \n",
    "            \n",
    "\n",
    "    def agregar_ingrediente(self, nueva_fruta):\n",
    "        if type(nueva_fruta) == str:\n",
    "            self.bandeja.append(nueva_fruta)\n",
    "        else:\n",
    "            self.bandeja.extend(nueva_fruta)\n",
    "     \n",
    "    def listar_ingredientes(self):\n",
    "        if len(self.bandeja) == 0:\n",
    "            return print('Bandeja vacía.')\n",
    "        else:\n",
    "            return print(f'Ingredientes en la bandeja: {\", \".join(self.bandeja)}.')\n",
    "    \n",
    "    def preparar_jugo(self):\n",
    "        if not self.enchufado:\n",
    "            raise ValueError(\n",
    "                'Error ❌: la juguera no está enchufada. Por favor enchufe la juguera antes de preparar el jugo.')\n",
    "            \n",
    "        if len(self.bandeja) == 0:\n",
    "            raise ValueError(\n",
    "                'Error ❌: La bandeja no tiene ingredientes.')\n",
    "        \n",
    "        else:\n",
    "            mensaje = self.verificacion_pepas(self.bandeja)\n",
    "            \n",
    "        self.bandeja = []\n",
    "        print(mensaje)\n",
    "        return\n",
    "    \n",
    "        \n",
    "    def verificacion_pepas(self, bandeja):\n",
    "        frutasNoDefinidas = []\n",
    "        frutasDefinidas = []\n",
    "        \n",
    "        for frutaBandeja in bandeja:\n",
    "            if frutaBandeja.upper() not in [fruta['nombre'].upper() for fruta in datos]:\n",
    "                frutasNoDefinidas.append(frutaBandeja)\n",
    "            else:\n",
    "                frutasDefinidas.extend([fruta for fruta in datos if fruta['nombre'].upper() == frutaBandeja.upper()])\n",
    "        if len(frutasNoDefinidas) > 0:\n",
    "            print(f'Existen las siguientes frutas sin definir: {\", \".join(frutasNoDefinidas)}. Por favor, '\\\n",
    "                  'defínilas antes de continuar con la preparación del jugo.')\n",
    "            return\n",
    "        \n",
    "        frutasDefinidasConPepas = [fruta for fruta in frutasDefinidas if fruta['pepas']]\n",
    "        if len(frutasDefinidasConPepas) > 0:\n",
    "            print('Alerta ⚠️: El jugo puede contener restos de pepas.')\n",
    "       \n",
    "        mensaje = f'Jugo de {\", \".join([fruta[\"nombre\"] for fruta in frutasDefinidas])}'\\\n",
    "                      ' listo. 🏖️🥤 Que lo disfrutes!!! 🥤🏖️'\n",
    "        \n",
    "        return mensaje"
   ]
  },
  {
   "cell_type": "markdown",
   "id": "89a8c761",
   "metadata": {},
   "source": [
    "Vuelvo a ajecutar las validaciones anteriores"
   ]
  },
  {
   "cell_type": "code",
   "execution_count": 62,
   "id": "b33da43a",
   "metadata": {
    "id": "913af660",
    "outputId": "ce258367-a758-4398-f4a8-f081245bfa60"
   },
   "outputs": [
    {
     "name": "stdout",
     "output_type": "stream",
     "text": [
      "Bandeja vacía.\n"
     ]
    }
   ],
   "source": [
    "jugera = Jugera()\n",
    "\n",
    "# Como no tenemos ingredientes, listar_ingredientes deberá imprimir 'Bandeja vacía'\n",
    "jugera.listar_ingredientes()"
   ]
  },
  {
   "cell_type": "code",
   "execution_count": 63,
   "id": "98c2a023",
   "metadata": {
    "id": "9d06bf3e",
    "outputId": "6ce58841-fbaa-43a5-eea6-2b0842e77ed4",
    "scrolled": false
   },
   "outputs": [
    {
     "ename": "ValueError",
     "evalue": "Error ❌: la juguera no está enchufada. Por favor enchufe la juguera antes de preparar el jugo.",
     "output_type": "error",
     "traceback": [
      "\u001b[1;31m---------------------------------------------------------------------------\u001b[0m",
      "\u001b[1;31mValueError\u001b[0m                                Traceback (most recent call last)",
      "\u001b[1;32m<ipython-input-63-12a82fa67e1d>\u001b[0m in \u001b[0;36m<module>\u001b[1;34m\u001b[0m\n\u001b[0;32m      1\u001b[0m \u001b[1;31m# Esta celda debería levantar una excepcion indicando que no está enchufada la jugera.\u001b[0m\u001b[1;33m\u001b[0m\u001b[1;33m\u001b[0m\u001b[1;33m\u001b[0m\u001b[0m\n\u001b[1;32m----> 2\u001b[1;33m \u001b[0mjugera\u001b[0m\u001b[1;33m.\u001b[0m\u001b[0mpreparar_jugo\u001b[0m\u001b[1;33m(\u001b[0m\u001b[1;33m)\u001b[0m\u001b[1;33m\u001b[0m\u001b[1;33m\u001b[0m\u001b[0m\n\u001b[0m",
      "\u001b[1;32m<ipython-input-61-9b88719843bb>\u001b[0m in \u001b[0;36mpreparar_jugo\u001b[1;34m(self)\u001b[0m\n\u001b[0;32m     60\u001b[0m     \u001b[1;32mdef\u001b[0m \u001b[0mpreparar_jugo\u001b[0m\u001b[1;33m(\u001b[0m\u001b[0mself\u001b[0m\u001b[1;33m)\u001b[0m\u001b[1;33m:\u001b[0m\u001b[1;33m\u001b[0m\u001b[1;33m\u001b[0m\u001b[0m\n\u001b[0;32m     61\u001b[0m         \u001b[1;32mif\u001b[0m \u001b[1;32mnot\u001b[0m \u001b[0mself\u001b[0m\u001b[1;33m.\u001b[0m\u001b[0menchufado\u001b[0m\u001b[1;33m:\u001b[0m\u001b[1;33m\u001b[0m\u001b[1;33m\u001b[0m\u001b[0m\n\u001b[1;32m---> 62\u001b[1;33m             raise ValueError(\n\u001b[0m\u001b[0;32m     63\u001b[0m                 'Error ❌: la juguera no está enchufada. Por favor enchufe la juguera antes de preparar el jugo.')\n\u001b[0;32m     64\u001b[0m \u001b[1;33m\u001b[0m\u001b[0m\n",
      "\u001b[1;31mValueError\u001b[0m: Error ❌: la juguera no está enchufada. Por favor enchufe la juguera antes de preparar el jugo."
     ]
    }
   ],
   "source": [
    "# Esta celda debería levantar una excepcion indicando que no está enchufada la jugera.\n",
    "jugera.preparar_jugo()"
   ]
  },
  {
   "cell_type": "code",
   "execution_count": 64,
   "id": "f663b309",
   "metadata": {
    "id": "3ad38f18"
   },
   "outputs": [],
   "source": [
    "# Enchufamos el electrodoméstico\n",
    "jugera.enchufar()"
   ]
  },
  {
   "cell_type": "code",
   "execution_count": 65,
   "id": "a6875e15",
   "metadata": {
    "id": "48009872",
    "outputId": "5b46ee29-ad22-46a4-aebe-d9bd7c5325c2",
    "scrolled": true
   },
   "outputs": [
    {
     "ename": "ValueError",
     "evalue": "Error ❌: La bandeja no tiene ingredientes.",
     "output_type": "error",
     "traceback": [
      "\u001b[1;31m---------------------------------------------------------------------------\u001b[0m",
      "\u001b[1;31mValueError\u001b[0m                                Traceback (most recent call last)",
      "\u001b[1;32m<ipython-input-65-763feb2b9970>\u001b[0m in \u001b[0;36m<module>\u001b[1;34m\u001b[0m\n\u001b[0;32m      1\u001b[0m \u001b[1;31m# Esta celda debería levantar ina excepción informandoles que la bandeja no tiene ingredientes.\u001b[0m\u001b[1;33m\u001b[0m\u001b[1;33m\u001b[0m\u001b[1;33m\u001b[0m\u001b[0m\n\u001b[1;32m----> 2\u001b[1;33m \u001b[0mjugera\u001b[0m\u001b[1;33m.\u001b[0m\u001b[0mpreparar_jugo\u001b[0m\u001b[1;33m(\u001b[0m\u001b[1;33m)\u001b[0m\u001b[1;33m\u001b[0m\u001b[1;33m\u001b[0m\u001b[0m\n\u001b[0m",
      "\u001b[1;32m<ipython-input-61-9b88719843bb>\u001b[0m in \u001b[0;36mpreparar_jugo\u001b[1;34m(self)\u001b[0m\n\u001b[0;32m     64\u001b[0m \u001b[1;33m\u001b[0m\u001b[0m\n\u001b[0;32m     65\u001b[0m         \u001b[1;32mif\u001b[0m \u001b[0mlen\u001b[0m\u001b[1;33m(\u001b[0m\u001b[0mself\u001b[0m\u001b[1;33m.\u001b[0m\u001b[0mbandeja\u001b[0m\u001b[1;33m)\u001b[0m \u001b[1;33m==\u001b[0m \u001b[1;36m0\u001b[0m\u001b[1;33m:\u001b[0m\u001b[1;33m\u001b[0m\u001b[1;33m\u001b[0m\u001b[0m\n\u001b[1;32m---> 66\u001b[1;33m             raise ValueError(\n\u001b[0m\u001b[0;32m     67\u001b[0m                 'Error ❌: La bandeja no tiene ingredientes.')\n\u001b[0;32m     68\u001b[0m \u001b[1;33m\u001b[0m\u001b[0m\n",
      "\u001b[1;31mValueError\u001b[0m: Error ❌: La bandeja no tiene ingredientes."
     ]
    }
   ],
   "source": [
    "# Esta celda debería levantar ina excepción informandoles que la bandeja no tiene ingredientes.\n",
    "jugera.preparar_jugo()"
   ]
  },
  {
   "cell_type": "markdown",
   "id": "b3ef16d1",
   "metadata": {},
   "source": [
    "Para probar el funcionamiento del setter haremos varios ensayos."
   ]
  },
  {
   "cell_type": "code",
   "execution_count": 66,
   "id": "32f4117d",
   "metadata": {},
   "outputs": [
    {
     "ename": "ValueError",
     "evalue": "Error ❌: la bandeja ingresada no es una lista.",
     "output_type": "error",
     "traceback": [
      "\u001b[1;31m---------------------------------------------------------------------------\u001b[0m",
      "\u001b[1;31mValueError\u001b[0m                                Traceback (most recent call last)",
      "\u001b[1;32m<ipython-input-66-adcb3ca5c084>\u001b[0m in \u001b[0;36m<module>\u001b[1;34m\u001b[0m\n\u001b[0;32m      1\u001b[0m \u001b[1;31m# ingresar una bandeja que no es lista.\u001b[0m\u001b[1;33m\u001b[0m\u001b[1;33m\u001b[0m\u001b[1;33m\u001b[0m\u001b[0m\n\u001b[1;32m----> 2\u001b[1;33m \u001b[0mjugera\u001b[0m\u001b[1;33m.\u001b[0m\u001b[0mbandeja\u001b[0m \u001b[1;33m=\u001b[0m \u001b[1;34m'naranja'\u001b[0m\u001b[1;33m\u001b[0m\u001b[1;33m\u001b[0m\u001b[0m\n\u001b[0m",
      "\u001b[1;32m<ipython-input-61-9b88719843bb>\u001b[0m in \u001b[0;36mbandeja\u001b[1;34m(self, nueva_bandeja)\u001b[0m\n\u001b[0;32m     12\u001b[0m     \u001b[1;32mdef\u001b[0m \u001b[0mbandeja\u001b[0m\u001b[1;33m(\u001b[0m\u001b[0mself\u001b[0m\u001b[1;33m,\u001b[0m \u001b[0mnueva_bandeja\u001b[0m\u001b[1;33m)\u001b[0m\u001b[1;33m:\u001b[0m\u001b[1;33m\u001b[0m\u001b[1;33m\u001b[0m\u001b[0m\n\u001b[0;32m     13\u001b[0m         \u001b[1;32mif\u001b[0m \u001b[0mtype\u001b[0m\u001b[1;33m(\u001b[0m\u001b[0mnueva_bandeja\u001b[0m\u001b[1;33m)\u001b[0m \u001b[1;33m!=\u001b[0m \u001b[0mlist\u001b[0m\u001b[1;33m:\u001b[0m\u001b[1;33m\u001b[0m\u001b[1;33m\u001b[0m\u001b[0m\n\u001b[1;32m---> 14\u001b[1;33m             raise ValueError (\n\u001b[0m\u001b[0;32m     15\u001b[0m                 \u001b[1;34m'Error ❌: la bandeja ingresada no es una lista.'\u001b[0m\u001b[1;33m\u001b[0m\u001b[1;33m\u001b[0m\u001b[0m\n\u001b[0;32m     16\u001b[0m             )\n",
      "\u001b[1;31mValueError\u001b[0m: Error ❌: la bandeja ingresada no es una lista."
     ]
    }
   ],
   "source": [
    "# ingresar una bandeja que no es lista.\n",
    "jugera.bandeja = 'naranja'"
   ]
  },
  {
   "cell_type": "code",
   "execution_count": 67,
   "id": "3d7f616d",
   "metadata": {},
   "outputs": [
    {
     "ename": "ValueError",
     "evalue": "Error ❌: la bandeja ingresada no puede contener más de tres frutas.",
     "output_type": "error",
     "traceback": [
      "\u001b[1;31m---------------------------------------------------------------------------\u001b[0m",
      "\u001b[1;31mValueError\u001b[0m                                Traceback (most recent call last)",
      "\u001b[1;32m<ipython-input-67-f9027c0a4177>\u001b[0m in \u001b[0;36m<module>\u001b[1;34m\u001b[0m\n\u001b[0;32m      1\u001b[0m \u001b[1;31m# ingresar una lista con más de tres frutas\u001b[0m\u001b[1;33m\u001b[0m\u001b[1;33m\u001b[0m\u001b[1;33m\u001b[0m\u001b[0m\n\u001b[1;32m----> 2\u001b[1;33m \u001b[0mjugera\u001b[0m\u001b[1;33m.\u001b[0m\u001b[0mbandeja\u001b[0m \u001b[1;33m=\u001b[0m \u001b[1;33m[\u001b[0m\u001b[1;34m'cereza'\u001b[0m\u001b[1;33m,\u001b[0m \u001b[1;34m'mango'\u001b[0m\u001b[1;33m,\u001b[0m \u001b[1;34m'manzana'\u001b[0m\u001b[1;33m,\u001b[0m \u001b[1;34m'mora'\u001b[0m\u001b[1;33m]\u001b[0m\u001b[1;33m\u001b[0m\u001b[1;33m\u001b[0m\u001b[0m\n\u001b[0m",
      "\u001b[1;32m<ipython-input-61-9b88719843bb>\u001b[0m in \u001b[0;36mbandeja\u001b[1;34m(self, nueva_bandeja)\u001b[0m\n\u001b[0;32m     16\u001b[0m             )\n\u001b[0;32m     17\u001b[0m         \u001b[1;32melif\u001b[0m \u001b[0mlen\u001b[0m\u001b[1;33m(\u001b[0m\u001b[0mnueva_bandeja\u001b[0m\u001b[1;33m)\u001b[0m \u001b[1;33m>\u001b[0m \u001b[1;36m3\u001b[0m\u001b[1;33m:\u001b[0m\u001b[1;33m\u001b[0m\u001b[1;33m\u001b[0m\u001b[0m\n\u001b[1;32m---> 18\u001b[1;33m             raise ValueError (\n\u001b[0m\u001b[0;32m     19\u001b[0m                 \u001b[1;34m'Error ❌: la bandeja ingresada no puede contener más de tres frutas.'\u001b[0m\u001b[1;33m\u001b[0m\u001b[1;33m\u001b[0m\u001b[0m\n\u001b[0;32m     20\u001b[0m             )\n",
      "\u001b[1;31mValueError\u001b[0m: Error ❌: la bandeja ingresada no puede contener más de tres frutas."
     ]
    }
   ],
   "source": [
    "# ingresar una lista con más de tres frutas\n",
    "jugera.bandeja = ['cereza', 'mango', 'manzana', 'mora']"
   ]
  },
  {
   "cell_type": "code",
   "execution_count": 68,
   "id": "92f56ab9",
   "metadata": {},
   "outputs": [
    {
     "ename": "ValueError",
     "evalue": "Error ❌: la bandeja ingresada contiene 3 frutas que no son diccionarios.",
     "output_type": "error",
     "traceback": [
      "\u001b[1;31m---------------------------------------------------------------------------\u001b[0m",
      "\u001b[1;31mValueError\u001b[0m                                Traceback (most recent call last)",
      "\u001b[1;32m<ipython-input-68-2ad017a4e79c>\u001b[0m in \u001b[0;36m<module>\u001b[1;34m\u001b[0m\n\u001b[0;32m      1\u001b[0m \u001b[1;31m#ingresar frutas sin ser diccionarios\u001b[0m\u001b[1;33m\u001b[0m\u001b[1;33m\u001b[0m\u001b[1;33m\u001b[0m\u001b[0m\n\u001b[1;32m----> 2\u001b[1;33m \u001b[0mjugera\u001b[0m\u001b[1;33m.\u001b[0m\u001b[0mbandeja\u001b[0m \u001b[1;33m=\u001b[0m \u001b[1;33m[\u001b[0m\u001b[1;34m'cereza'\u001b[0m\u001b[1;33m,\u001b[0m \u001b[1;34m'mango'\u001b[0m\u001b[1;33m,\u001b[0m \u001b[1;34m'manzana'\u001b[0m\u001b[1;33m]\u001b[0m\u001b[1;33m\u001b[0m\u001b[1;33m\u001b[0m\u001b[0m\n\u001b[0m",
      "\u001b[1;32m<ipython-input-61-9b88719843bb>\u001b[0m in \u001b[0;36mbandeja\u001b[1;34m(self, nueva_bandeja)\u001b[0m\n\u001b[0;32m     26\u001b[0m                     \u001b[0mfrutasQueNoSonDiccionarios\u001b[0m\u001b[1;33m.\u001b[0m\u001b[0mappend\u001b[0m\u001b[1;33m(\u001b[0m\u001b[0mfruta\u001b[0m\u001b[1;33m)\u001b[0m\u001b[1;33m\u001b[0m\u001b[1;33m\u001b[0m\u001b[0m\n\u001b[0;32m     27\u001b[0m             \u001b[1;32mif\u001b[0m \u001b[0mlen\u001b[0m\u001b[1;33m(\u001b[0m\u001b[0mfrutasQueNoSonDiccionarios\u001b[0m\u001b[1;33m)\u001b[0m \u001b[1;33m>\u001b[0m \u001b[1;36m0\u001b[0m\u001b[1;33m:\u001b[0m\u001b[1;33m\u001b[0m\u001b[1;33m\u001b[0m\u001b[0m\n\u001b[1;32m---> 28\u001b[1;33m                 raise ValueError (\n\u001b[0m\u001b[0;32m     29\u001b[0m                     \u001b[1;34mf'Error ❌: la bandeja ingresada contiene {len(frutasQueNoSonDiccionarios)} '\u001b[0m\u001b[0;31m\\\u001b[0m\u001b[1;33m\u001b[0m\u001b[1;33m\u001b[0m\u001b[0m\n\u001b[0;32m     30\u001b[0m                     \u001b[1;34m'frutas que no son diccionarios.'\u001b[0m\u001b[1;33m\u001b[0m\u001b[1;33m\u001b[0m\u001b[0m\n",
      "\u001b[1;31mValueError\u001b[0m: Error ❌: la bandeja ingresada contiene 3 frutas que no son diccionarios."
     ]
    }
   ],
   "source": [
    "#ingresar frutas sin ser diccionarios\n",
    "jugera.bandeja = ['cereza', 'mango', 'manzana']"
   ]
  },
  {
   "cell_type": "code",
   "execution_count": 69,
   "id": "67fa690c",
   "metadata": {},
   "outputs": [
    {
     "ename": "ValueError",
     "evalue": "Error ❌: la bandeja ingresada contiene 1 fruta que no poseen exactamente las llaves nombre, tipo, color y pepas.",
     "output_type": "error",
     "traceback": [
      "\u001b[1;31m---------------------------------------------------------------------------\u001b[0m",
      "\u001b[1;31mValueError\u001b[0m                                Traceback (most recent call last)",
      "\u001b[1;32m<ipython-input-69-34865223d16d>\u001b[0m in \u001b[0;36m<module>\u001b[1;34m\u001b[0m\n\u001b[0;32m      1\u001b[0m \u001b[1;31m#agregamos la bandeja con una llave del diccionario incorrecta\u001b[0m\u001b[1;33m\u001b[0m\u001b[1;33m\u001b[0m\u001b[1;33m\u001b[0m\u001b[0m\n\u001b[1;32m----> 2\u001b[1;33m jugera.bandeja = [{\"nombre\": \"cereza\",\n\u001b[0m\u001b[0;32m      3\u001b[0m                    \u001b[1;34m\"tipo\"\u001b[0m\u001b[1;33m:\u001b[0m \u001b[1;34m\"bosque\"\u001b[0m\u001b[1;33m,\u001b[0m\u001b[1;33m\u001b[0m\u001b[1;33m\u001b[0m\u001b[0m\n\u001b[0;32m      4\u001b[0m                    \u001b[1;34m\"color\"\u001b[0m\u001b[1;33m:\u001b[0m \u001b[1;34m\"rojo\"\u001b[0m\u001b[1;33m,\u001b[0m\u001b[1;33m\u001b[0m\u001b[1;33m\u001b[0m\u001b[0m\n\u001b[0;32m      5\u001b[0m                    \"pepas\": True},\n",
      "\u001b[1;32m<ipython-input-61-9b88719843bb>\u001b[0m in \u001b[0;36mbandeja\u001b[1;34m(self, nueva_bandeja)\u001b[0m\n\u001b[0;32m     36\u001b[0m \u001b[1;33m\u001b[0m\u001b[0m\n\u001b[0;32m     37\u001b[0m                 \u001b[1;32mif\u001b[0m \u001b[0mlen\u001b[0m\u001b[1;33m(\u001b[0m\u001b[0mfrutasQueNoContienenLasMismasLlaves\u001b[0m\u001b[1;33m)\u001b[0m \u001b[1;33m>\u001b[0m \u001b[1;36m0\u001b[0m\u001b[1;33m:\u001b[0m\u001b[1;33m\u001b[0m\u001b[1;33m\u001b[0m\u001b[0m\n\u001b[1;32m---> 38\u001b[1;33m                     raise ValueError (\n\u001b[0m\u001b[0;32m     39\u001b[0m                     \u001b[1;34mf'Error ❌: la bandeja ingresada contiene {len(frutasQueNoContienenLasMismasLlaves)} '\u001b[0m\u001b[0;31m\\\u001b[0m\u001b[1;33m\u001b[0m\u001b[1;33m\u001b[0m\u001b[0m\n\u001b[0;32m     40\u001b[0m                     \u001b[1;34m'fruta que no poseen exactamente las llaves nombre, tipo, color y pepas.'\u001b[0m\u001b[1;33m\u001b[0m\u001b[1;33m\u001b[0m\u001b[0m\n",
      "\u001b[1;31mValueError\u001b[0m: Error ❌: la bandeja ingresada contiene 1 fruta que no poseen exactamente las llaves nombre, tipo, color y pepas."
     ]
    }
   ],
   "source": [
    "#agregamos la bandeja con una llave del diccionario incorrecta\n",
    "jugera.bandeja = [{\"nombre\": \"cereza\",\n",
    "                   \"tipo\": \"bosque\",\n",
    "                   \"color\": \"rojo\",\n",
    "                   \"pepas\": True},\n",
    "                  {\"nombre\": \"maracuya\",\n",
    "                   \"tipo\": \"tropical\",\n",
    "                   \"color\": \"amarillo\",\n",
    "                   \"pepas\": True},\n",
    "                  {\"nombre\": \"pomelo\",\n",
    "                   \"tipo\": \"cítrica\",\n",
    "                   \"color\": \"naranjo\",\n",
    "                   \"sabor\": True}]"
   ]
  },
  {
   "cell_type": "code",
   "execution_count": 70,
   "id": "ace0f372",
   "metadata": {},
   "outputs": [],
   "source": [
    "#agregamos la bandeja correctamente\n",
    "jugera.bandeja = [{\"nombre\": \"cereza\",\n",
    "                   \"tipo\": \"bosque\",\n",
    "                   \"color\": \"rojo\",\n",
    "                   \"pepas\": True},\n",
    "                  {\"nombre\": \"maracuya\",\n",
    "                   \"tipo\": \"tropical\",\n",
    "                   \"color\": \"amarillo\",\n",
    "                   \"pepas\": True},\n",
    "                  {\"nombre\": \"pomelo\",\n",
    "                   \"tipo\": \"cítrica\",\n",
    "                   \"color\": \"naranjo\",\n",
    "                   \"pepas\": True}]"
   ]
  },
  {
   "cell_type": "code",
   "execution_count": 71,
   "id": "5cf370be",
   "metadata": {
    "id": "4873e0bf",
    "outputId": "e8ba6792-dd0e-4b67-86d1-da1b2e2aab6b"
   },
   "outputs": [
    {
     "name": "stdout",
     "output_type": "stream",
     "text": [
      "Ingredientes en la bandeja: cereza, maracuya, pomelo.\n"
     ]
    }
   ],
   "source": [
    "# listamos los ingredientes de la bandeja\n",
    "jugera.listar_ingredientes()"
   ]
  },
  {
   "cell_type": "code",
   "execution_count": 72,
   "id": "96e73899",
   "metadata": {
    "id": "ff555151",
    "outputId": "219e56f9-290e-4514-a404-d2612d8756d5"
   },
   "outputs": [
    {
     "name": "stdout",
     "output_type": "stream",
     "text": [
      "Alerta ⚠️: El jugo puede contener restos de pepas.\n",
      "Jugo de cereza, maracuya, pomelo listo. 🏖️🥤 Que lo disfrutes!!! 🥤🏖️\n"
     ]
    }
   ],
   "source": [
    "# Preparamos el jugo: 'Jugo de naranja, plátano listo. 🏖️🥤 Que lo disfrutes!!! 🥤🏖️.'\n",
    "jugera.preparar_jugo()"
   ]
  },
  {
   "cell_type": "code",
   "execution_count": 73,
   "id": "a3b4e6d2",
   "metadata": {
    "id": "bbc532b2",
    "outputId": "066e90cc-99c7-487c-c262-a1be46aac7a4"
   },
   "outputs": [
    {
     "name": "stdout",
     "output_type": "stream",
     "text": [
      "Bandeja vacía.\n"
     ]
    }
   ],
   "source": [
    "# Una vez preparado el jugo, debería vaciarse la bandeja (imprimir Bandeja vacía)\n",
    "jugera.listar_ingredientes()"
   ]
  }
 ],
 "metadata": {
  "colab": {
   "collapsed_sections": [],
   "name": "Lab1_enunciado.ipynb",
   "provenance": [],
   "toc_visible": true
  },
  "kernelspec": {
   "display_name": "Python 3",
   "language": "python",
   "name": "python3"
  },
  "language_info": {
   "codemirror_mode": {
    "name": "ipython",
    "version": 3
   },
   "file_extension": ".py",
   "mimetype": "text/x-python",
   "name": "python",
   "nbconvert_exporter": "python",
   "pygments_lexer": "ipython3",
   "version": "3.8.8"
  }
 },
 "nbformat": 4,
 "nbformat_minor": 5
}
